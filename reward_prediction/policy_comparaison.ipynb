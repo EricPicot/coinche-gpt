{
 "cells": [
  {
   "cell_type": "markdown",
   "metadata": {},
   "source": [
    "# Comparaison of two policies"
   ]
  },
  {
   "cell_type": "markdown",
   "metadata": {},
   "source": [
    "In this notebook, we give the possibilty to compare two policies\n",
    "\n",
    "Given two trained policies, for each policy we will simulate a certain number of rounds against a random policy, and we check if one is significantly better than the other"
   ]
  },
  {
   "cell_type": "markdown",
   "metadata": {},
   "source": [
    "## Imports"
   ]
  },
  {
   "cell_type": "code",
   "execution_count": 44,
   "metadata": {
    "collapsed": true
   },
   "outputs": [],
   "source": [
    "import statsmodels\n",
    "import pandas as pd\n",
    "import numpy as np\n",
    "import scipy.stats as scs\n",
    "\n",
    "import matplotlib.pyplot as plt"
   ]
  },
  {
   "cell_type": "code",
   "execution_count": 62,
   "metadata": {},
   "outputs": [
    {
     "data": {
      "text/plain": [
       "'/Users/ericpicot/PycharmProjects/gym-coinche/reward_prediction'"
      ]
     },
     "execution_count": 62,
     "metadata": {},
     "output_type": "execute_result"
    }
   ],
   "source": [
    "pwd"
   ]
  },
  {
   "cell_type": "code",
   "execution_count": 63,
   "metadata": {
    "collapsed": true
   },
   "outputs": [],
   "source": [
    "random_data = pd.read_csv(\"./data/random_hands_and_reward.csv\").drop(\"Unnamed: 0\", axis = 1)\n",
    "\n"
   ]
  },
  {
   "cell_type": "code",
   "execution_count": 68,
   "metadata": {},
   "outputs": [
    {
     "data": {
      "text/plain": [
       "Index(['0', '1', '2', '3', '4', '5', '6', '7', '8', '9',\n",
       "       ...\n",
       "       '119', '120', '121', '122', '123', '124', '125', '126', '127', '128'],\n",
       "      dtype='object', length=129)"
      ]
     },
     "execution_count": 68,
     "metadata": {},
     "output_type": "execute_result"
    }
   ],
   "source": [
    "random_data.shape\n",
    "random_data.columns"
   ]
  },
  {
   "cell_type": "code",
   "execution_count": 75,
   "metadata": {},
   "outputs": [],
   "source": [
    "random_data = pd.read_csv(\"./data/random_hands_and_reward.csv\")\n",
    "\n",
    "suit = [\"atout\", \"na1\", \"na2\", \"na3\"]\n",
    "cards = [\"7\", \"8\", \"9\", \"10\", \"jack\", \"queen\", \"king\", \"as\"]\n",
    "players = [\"p1\", \"p2\"]\n",
    "random_data.columns = [(suit*2)[x//8]+\"_\"+cards[x%8]+\"_\"+players[x//32] for x in range(64)] + [\"total_reward\"]\n",
    "random_attack = pd.read_csv(\"./data/random_attacker_teams.csv\").drop(\"Unnamed: 0\", axis = 1)"
   ]
  },
  {
   "cell_type": "code",
   "execution_count": 76,
   "metadata": {},
   "outputs": [
    {
     "data": {
      "text/plain": [
       "((500, 129), (1000, 4))"
      ]
     },
     "execution_count": 76,
     "metadata": {},
     "output_type": "execute_result"
    }
   ],
   "source": [
    "random_data.shape, random_attack.shape"
   ]
  },
  {
   "cell_type": "code",
   "execution_count": 77,
   "metadata": {},
   "outputs": [
    {
     "data": {
      "text/html": [
       "<div>\n",
       "<style scoped>\n",
       "    .dataframe tbody tr th:only-of-type {\n",
       "        vertical-align: middle;\n",
       "    }\n",
       "\n",
       "    .dataframe tbody tr th {\n",
       "        vertical-align: top;\n",
       "    }\n",
       "\n",
       "    .dataframe thead th {\n",
       "        text-align: right;\n",
       "    }\n",
       "</style>\n",
       "<table border=\"1\" class=\"dataframe\">\n",
       "  <thead>\n",
       "    <tr style=\"text-align: right;\">\n",
       "      <th></th>\n",
       "      <th>atout_7_p1</th>\n",
       "      <th>atout_8_p1</th>\n",
       "      <th>atout_9_p1</th>\n",
       "      <th>atout_10_p1</th>\n",
       "      <th>atout_jack_p1</th>\n",
       "      <th>atout_queen_p1</th>\n",
       "      <th>atout_king_p1</th>\n",
       "      <th>atout_as_p1</th>\n",
       "      <th>na1_7_p1</th>\n",
       "      <th>na1_8_p1</th>\n",
       "      <th>...</th>\n",
       "      <th>na3_10_p4</th>\n",
       "      <th>na3_jack_p4</th>\n",
       "      <th>na3_queen_p4</th>\n",
       "      <th>na3_king_p4</th>\n",
       "      <th>na3_as_p4</th>\n",
       "      <th>total_reward</th>\n",
       "      <th>p0</th>\n",
       "      <th>p1</th>\n",
       "      <th>p2</th>\n",
       "      <th>p3</th>\n",
       "    </tr>\n",
       "  </thead>\n",
       "  <tbody>\n",
       "    <tr>\n",
       "      <th>0</th>\n",
       "      <td>0.0</td>\n",
       "      <td>0.0</td>\n",
       "      <td>0.0</td>\n",
       "      <td>0.0</td>\n",
       "      <td>0.0</td>\n",
       "      <td>0.0</td>\n",
       "      <td>1.0</td>\n",
       "      <td>1.0</td>\n",
       "      <td>1.0</td>\n",
       "      <td>0.0</td>\n",
       "      <td>...</td>\n",
       "      <td>0.0</td>\n",
       "      <td>0.0</td>\n",
       "      <td>0.0</td>\n",
       "      <td>0.0</td>\n",
       "      <td>0.0</td>\n",
       "      <td>52.0</td>\n",
       "      <td>1</td>\n",
       "      <td>0</td>\n",
       "      <td>1</td>\n",
       "      <td>0</td>\n",
       "    </tr>\n",
       "    <tr>\n",
       "      <th>1</th>\n",
       "      <td>0.0</td>\n",
       "      <td>0.0</td>\n",
       "      <td>0.0</td>\n",
       "      <td>0.0</td>\n",
       "      <td>1.0</td>\n",
       "      <td>0.0</td>\n",
       "      <td>0.0</td>\n",
       "      <td>0.0</td>\n",
       "      <td>0.0</td>\n",
       "      <td>0.0</td>\n",
       "      <td>...</td>\n",
       "      <td>0.0</td>\n",
       "      <td>0.0</td>\n",
       "      <td>0.0</td>\n",
       "      <td>0.0</td>\n",
       "      <td>0.0</td>\n",
       "      <td>117.0</td>\n",
       "      <td>1</td>\n",
       "      <td>0</td>\n",
       "      <td>1</td>\n",
       "      <td>0</td>\n",
       "    </tr>\n",
       "    <tr>\n",
       "      <th>2</th>\n",
       "      <td>1.0</td>\n",
       "      <td>1.0</td>\n",
       "      <td>1.0</td>\n",
       "      <td>0.0</td>\n",
       "      <td>0.0</td>\n",
       "      <td>0.0</td>\n",
       "      <td>0.0</td>\n",
       "      <td>0.0</td>\n",
       "      <td>0.0</td>\n",
       "      <td>1.0</td>\n",
       "      <td>...</td>\n",
       "      <td>0.0</td>\n",
       "      <td>0.0</td>\n",
       "      <td>0.0</td>\n",
       "      <td>0.0</td>\n",
       "      <td>0.0</td>\n",
       "      <td>32.0</td>\n",
       "      <td>0</td>\n",
       "      <td>1</td>\n",
       "      <td>0</td>\n",
       "      <td>1</td>\n",
       "    </tr>\n",
       "    <tr>\n",
       "      <th>3</th>\n",
       "      <td>0.0</td>\n",
       "      <td>1.0</td>\n",
       "      <td>0.0</td>\n",
       "      <td>0.0</td>\n",
       "      <td>1.0</td>\n",
       "      <td>1.0</td>\n",
       "      <td>0.0</td>\n",
       "      <td>0.0</td>\n",
       "      <td>0.0</td>\n",
       "      <td>1.0</td>\n",
       "      <td>...</td>\n",
       "      <td>0.0</td>\n",
       "      <td>0.0</td>\n",
       "      <td>0.0</td>\n",
       "      <td>0.0</td>\n",
       "      <td>0.0</td>\n",
       "      <td>79.0</td>\n",
       "      <td>0</td>\n",
       "      <td>1</td>\n",
       "      <td>0</td>\n",
       "      <td>1</td>\n",
       "    </tr>\n",
       "    <tr>\n",
       "      <th>4</th>\n",
       "      <td>0.0</td>\n",
       "      <td>1.0</td>\n",
       "      <td>1.0</td>\n",
       "      <td>1.0</td>\n",
       "      <td>0.0</td>\n",
       "      <td>0.0</td>\n",
       "      <td>0.0</td>\n",
       "      <td>0.0</td>\n",
       "      <td>0.0</td>\n",
       "      <td>0.0</td>\n",
       "      <td>...</td>\n",
       "      <td>0.0</td>\n",
       "      <td>0.0</td>\n",
       "      <td>0.0</td>\n",
       "      <td>0.0</td>\n",
       "      <td>0.0</td>\n",
       "      <td>102.0</td>\n",
       "      <td>0</td>\n",
       "      <td>1</td>\n",
       "      <td>0</td>\n",
       "      <td>1</td>\n",
       "    </tr>\n",
       "  </tbody>\n",
       "</table>\n",
       "<p>5 rows × 133 columns</p>\n",
       "</div>"
      ],
      "text/plain": [
       "   atout_7_p1  atout_8_p1  atout_9_p1  atout_10_p1  atout_jack_p1  \\\n",
       "0         0.0         0.0         0.0          0.0            0.0   \n",
       "1         0.0         0.0         0.0          0.0            1.0   \n",
       "2         1.0         1.0         1.0          0.0            0.0   \n",
       "3         0.0         1.0         0.0          0.0            1.0   \n",
       "4         0.0         1.0         1.0          1.0            0.0   \n",
       "\n",
       "   atout_queen_p1  atout_king_p1  atout_as_p1  na1_7_p1  na1_8_p1  ...  \\\n",
       "0             0.0            1.0          1.0       1.0       0.0  ...   \n",
       "1             0.0            0.0          0.0       0.0       0.0  ...   \n",
       "2             0.0            0.0          0.0       0.0       1.0  ...   \n",
       "3             1.0            0.0          0.0       0.0       1.0  ...   \n",
       "4             0.0            0.0          0.0       0.0       0.0  ...   \n",
       "\n",
       "   na3_10_p4  na3_jack_p4  na3_queen_p4  na3_king_p4  na3_as_p4  total_reward  \\\n",
       "0        0.0          0.0           0.0          0.0        0.0          52.0   \n",
       "1        0.0          0.0           0.0          0.0        0.0         117.0   \n",
       "2        0.0          0.0           0.0          0.0        0.0          32.0   \n",
       "3        0.0          0.0           0.0          0.0        0.0          79.0   \n",
       "4        0.0          0.0           0.0          0.0        0.0         102.0   \n",
       "\n",
       "   p0  p1  p2  p3  \n",
       "0   1   0   1   0  \n",
       "1   1   0   1   0  \n",
       "2   0   1   0   1  \n",
       "3   0   1   0   1  \n",
       "4   0   1   0   1  \n",
       "\n",
       "[5 rows x 133 columns]"
      ]
     },
     "execution_count": 77,
     "metadata": {},
     "output_type": "execute_result"
    }
   ],
   "source": [
    "random_data = random_data.merge(random_attack, right_index = True,\n",
    "                               left_index = True)\n",
    "\n",
    "random_data.head()"
   ]
  },
  {
   "cell_type": "markdown",
   "metadata": {},
   "source": [
    "## Sizing the test"
   ]
  },
  {
   "cell_type": "markdown",
   "metadata": {},
   "source": [
    "In a first approach, we are making an A/B test. So we need to to have an estimation of the size of the samples that will be needed"
   ]
  },
  {
   "cell_type": "code",
   "execution_count": 43,
   "metadata": {},
   "outputs": [
    {
     "name": "stdout",
     "output_type": "stream",
     "text": [
      "count    1000.000000\n",
      "mean       81.638000\n",
      "std        35.339352\n",
      "min         0.000000\n",
      "25%        56.000000\n",
      "50%        81.000000\n",
      "75%       107.000000\n",
      "max       162.000000\n",
      "Name: total_reward, dtype: float64\n"
     ]
    },
    {
     "data": {
      "image/png": "[encoded data removed]",
      "text/plain": [
       "<Figure size 432x288 with 1 Axes>"
      ]
     },
     "metadata": {
      "needs_background": "light"
     },
     "output_type": "display_data"
    }
   ],
   "source": [
    "plt.hist(random_data[\"total_reward\"])\n",
    "print(random_data[\"total_reward\"].describe())"
   ]
  },
  {
   "cell_type": "code",
   "execution_count": 54,
   "metadata": {
    "collapsed": true
   },
   "outputs": [],
   "source": [
    "# We want to be able to detect one point of difference of total reward for the attack, and one point for defense\n",
    "mde = 1\n",
    "risk1 = 0.05\n",
    "risk2 = 0.2\n",
    "\n",
    "# under a random policy, the distribution is centered in 82 with std of 35\n",
    "std = 35"
   ]
  },
  {
   "cell_type": "code",
   "execution_count": 55,
   "metadata": {},
   "outputs": [
    {
     "data": {
      "text/plain": [
       "19229.755349155268"
      ]
     },
     "execution_count": 55,
     "metadata": {},
     "output_type": "execute_result"
    }
   ],
   "source": [
    "def size_sample_AB_test(risk1, risk2, var, mde, bilateral=False):\n",
    "\n",
    "    if bilateral:\n",
    "        Z_alpha = scs.norm(0, 1).ppf(1 - risk1/2)\n",
    "    else:\n",
    "        Z_alpha = scs.norm(0, 1).ppf(1 - risk1)\n",
    "\n",
    "    Z_beta = scs.norm(0, 1).ppf(1 - risk2)\n",
    "\n",
    "    min_N = (2*(var)*(Z_beta + Z_alpha)**2 / mde**2)\n",
    "\n",
    "    return min_N\n",
    "\n",
    "size_sample_AB_test(risk1, risk2, var = std**2, mde = mde, bilateral=True)"
   ]
  },
  {
   "cell_type": "markdown",
   "metadata": {},
   "source": [
    "We will make the assumption that std is not really moving even with better policies.\n",
    "Moreover, we'll take a bit bigger samples to be sure (as it doesn't cost anything to do so)"
   ]
  },
  {
   "cell_type": "markdown",
   "metadata": {},
   "source": [
    "## Comparing policies"
   ]
  },
  {
   "cell_type": "code",
   "execution_count": 75,
   "metadata": {
    "collapsed": true
   },
   "outputs": [],
   "source": [
    "random_data = pd.read_csv(\"./data/competition_hands_and_reward.csv\").drop(\"Unnamed: 0\", axis = 1)\n",
    "\n",
    "suit = [\"atout\", \"na1\", \"na2\", \"na3\"]\n",
    "cards = [\"7\", \"8\", \"9\", \"10\", \"jack\", \"queen\", \"king\", \"as\"]\n",
    "players = [\"p1\", \"p2\"]\n",
    "players2 = [\"p3\", \"p4\"]\n",
    "random_data.columns = [(suit*2)[x//8]+\"_\"+cards[x%8]+\"_\"+players[x//32] for x in range(64)] +\n",
    "                        [(suit*2)[x//8]+\"_\"+cards[x%8]+\"_\"+players2[x//32] for x in range(64)]+\n",
    "                        [\"total_reward\"]\n",
    "\n",
    "\n",
    "#random_attack = pd.read_csv(\"./data/random_attacker_teams.csv\").drop(\"Unnamed: 0\", axis = 1)"
   ]
  },
  {
   "cell_type": "code",
   "execution_count": 56,
   "metadata": {
    "collapsed": true
   },
   "outputs": [],
   "source": [
    "data_1_path = \"./data/policy_1_data.csv\"\n",
    "data_2_path = \"./data/policy_2_data.csv\""
   ]
  },
  {
   "cell_type": "code",
   "execution_count": null,
   "metadata": {
    "collapsed": true
   },
   "outputs": [],
   "source": []
  }
 ],
 "metadata": {
  "kernelspec": {
   "display_name": "Python [conda env:gym-coinche]",
   "language": "python",
   "name": "conda-env-gym-coinche-py"
  },
  "language_info": {
   "codemirror_mode": {
    "name": "ipython",
    "version": 3
   },
   "file_extension": ".py",
   "mimetype": "text/x-python",
   "name": "python",
   "nbconvert_exporter": "python",
   "pygments_lexer": "ipython3",
   "version": "3.7.5"
  }
 },
 "nbformat": 4,
 "nbformat_minor": 2
}
