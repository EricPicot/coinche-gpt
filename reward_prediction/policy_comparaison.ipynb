{
 "cells": [
  {
   "cell_type": "markdown",
   "metadata": {},
   "source": [
    "# Comparaison of two policies"
   ]
  },
  {
   "cell_type": "markdown",
   "metadata": {},
   "source": [
    "In this notebook, we give the possibilty to compare two policies\n",
    "\n",
    "Given two trained policies, for each policy we will simulate a certain number of rounds against a random policy, and we check if one is significantly better than the other"
   ]
  },
  {
   "cell_type": "markdown",
   "metadata": {},
   "source": [
    "## Imports"
   ]
  },
  {
   "cell_type": "code",
   "execution_count": 13,
   "metadata": {
    "scrolled": true
   },
   "outputs": [],
   "source": [
    "import statsmodels\n",
    "import pandas as pd\n",
    "import numpy as np\n",
    "import scipy.stats as scs\n",
    "import sys\n",
    "sys.path.append(\"../\")\n",
    "import matplotlib.pyplot as plt\n",
    "\n",
    "from generate_rounds_with_policies import policy_competition\n",
    "from utils_policy_comparaison import size_sample_AB_test, test_H0, power_test, confidence_interval_diff"
   ]
  },
  {
   "cell_type": "code",
   "execution_count": 3,
   "metadata": {},
   "outputs": [
    {
     "name": "stdout",
     "output_type": "stream",
     "text": [
      "Contrat model passed:  None\n",
      "Contrat model passed:  None\n",
      "0\n",
      "500\n",
      "1000\n",
      "1500\n",
      "2000\n",
      "2500\n",
      "3000\n",
      "3500\n",
      "4000\n",
      "4500\n",
      "5000\n",
      "Done\n"
     ]
    }
   ],
   "source": [
    "NUM_EPISODES = 5001\n",
    "policy_algo = [\"Random\",\n",
    "               \"Random\",\n",
    "               \"Random\",\n",
    "               \"Random\"]\n",
    "\n",
    "contrat_model_path = None\n",
    "\n",
    "\n",
    "random_data, random_attack = policy_competition(policies=policy_algo, \n",
    "                                                env_name = \"coinche-v3\",\n",
    "                                                contrat_model_path=contrat_model_path, \n",
    "                                                NUM_EPISODES=NUM_EPISODES)"
   ]
  },
  {
   "cell_type": "code",
   "execution_count": 4,
   "metadata": {},
   "outputs": [
    {
     "data": {
      "text/html": [
       "<div>\n",
       "<style scoped>\n",
       "    .dataframe tbody tr th:only-of-type {\n",
       "        vertical-align: middle;\n",
       "    }\n",
       "\n",
       "    .dataframe tbody tr th {\n",
       "        vertical-align: top;\n",
       "    }\n",
       "\n",
       "    .dataframe thead th {\n",
       "        text-align: right;\n",
       "    }\n",
       "</style>\n",
       "<table border=\"1\" class=\"dataframe\">\n",
       "  <thead>\n",
       "    <tr style=\"text-align: right;\">\n",
       "      <th></th>\n",
       "      <th>atout_7_p1</th>\n",
       "      <th>atout_8_p1</th>\n",
       "      <th>atout_9_p1</th>\n",
       "      <th>atout_10_p1</th>\n",
       "      <th>atout_jack_p1</th>\n",
       "      <th>atout_queen_p1</th>\n",
       "      <th>atout_king_p1</th>\n",
       "      <th>atout_as_p1</th>\n",
       "      <th>na1_7_p1</th>\n",
       "      <th>na1_8_p1</th>\n",
       "      <th>...</th>\n",
       "      <th>na2_as_p4</th>\n",
       "      <th>na3_7_p4</th>\n",
       "      <th>na3_8_p4</th>\n",
       "      <th>na3_9_p4</th>\n",
       "      <th>na3_10_p4</th>\n",
       "      <th>na3_jack_p4</th>\n",
       "      <th>na3_queen_p4</th>\n",
       "      <th>na3_king_p4</th>\n",
       "      <th>na3_as_p4</th>\n",
       "      <th>total_reward</th>\n",
       "    </tr>\n",
       "  </thead>\n",
       "  <tbody>\n",
       "    <tr>\n",
       "      <th>0</th>\n",
       "      <td>0.0</td>\n",
       "      <td>0.0</td>\n",
       "      <td>0.0</td>\n",
       "      <td>0.0</td>\n",
       "      <td>0.0</td>\n",
       "      <td>0.0</td>\n",
       "      <td>1.0</td>\n",
       "      <td>1.0</td>\n",
       "      <td>1.0</td>\n",
       "      <td>0.0</td>\n",
       "      <td>...</td>\n",
       "      <td>0.0</td>\n",
       "      <td>0.0</td>\n",
       "      <td>0.0</td>\n",
       "      <td>0.0</td>\n",
       "      <td>1.0</td>\n",
       "      <td>1.0</td>\n",
       "      <td>0.0</td>\n",
       "      <td>0.0</td>\n",
       "      <td>0.0</td>\n",
       "      <td>128.0</td>\n",
       "    </tr>\n",
       "    <tr>\n",
       "      <th>1</th>\n",
       "      <td>0.0</td>\n",
       "      <td>0.0</td>\n",
       "      <td>0.0</td>\n",
       "      <td>0.0</td>\n",
       "      <td>0.0</td>\n",
       "      <td>0.0</td>\n",
       "      <td>0.0</td>\n",
       "      <td>0.0</td>\n",
       "      <td>0.0</td>\n",
       "      <td>0.0</td>\n",
       "      <td>...</td>\n",
       "      <td>0.0</td>\n",
       "      <td>1.0</td>\n",
       "      <td>1.0</td>\n",
       "      <td>0.0</td>\n",
       "      <td>0.0</td>\n",
       "      <td>1.0</td>\n",
       "      <td>0.0</td>\n",
       "      <td>0.0</td>\n",
       "      <td>0.0</td>\n",
       "      <td>104.0</td>\n",
       "    </tr>\n",
       "    <tr>\n",
       "      <th>2</th>\n",
       "      <td>0.0</td>\n",
       "      <td>0.0</td>\n",
       "      <td>0.0</td>\n",
       "      <td>0.0</td>\n",
       "      <td>0.0</td>\n",
       "      <td>0.0</td>\n",
       "      <td>0.0</td>\n",
       "      <td>0.0</td>\n",
       "      <td>0.0</td>\n",
       "      <td>0.0</td>\n",
       "      <td>...</td>\n",
       "      <td>1.0</td>\n",
       "      <td>0.0</td>\n",
       "      <td>0.0</td>\n",
       "      <td>0.0</td>\n",
       "      <td>0.0</td>\n",
       "      <td>0.0</td>\n",
       "      <td>0.0</td>\n",
       "      <td>1.0</td>\n",
       "      <td>0.0</td>\n",
       "      <td>106.0</td>\n",
       "    </tr>\n",
       "    <tr>\n",
       "      <th>3</th>\n",
       "      <td>0.0</td>\n",
       "      <td>0.0</td>\n",
       "      <td>1.0</td>\n",
       "      <td>0.0</td>\n",
       "      <td>0.0</td>\n",
       "      <td>0.0</td>\n",
       "      <td>1.0</td>\n",
       "      <td>0.0</td>\n",
       "      <td>1.0</td>\n",
       "      <td>0.0</td>\n",
       "      <td>...</td>\n",
       "      <td>0.0</td>\n",
       "      <td>0.0</td>\n",
       "      <td>0.0</td>\n",
       "      <td>0.0</td>\n",
       "      <td>0.0</td>\n",
       "      <td>0.0</td>\n",
       "      <td>0.0</td>\n",
       "      <td>0.0</td>\n",
       "      <td>0.0</td>\n",
       "      <td>100.0</td>\n",
       "    </tr>\n",
       "    <tr>\n",
       "      <th>4</th>\n",
       "      <td>0.0</td>\n",
       "      <td>0.0</td>\n",
       "      <td>0.0</td>\n",
       "      <td>0.0</td>\n",
       "      <td>0.0</td>\n",
       "      <td>0.0</td>\n",
       "      <td>1.0</td>\n",
       "      <td>0.0</td>\n",
       "      <td>1.0</td>\n",
       "      <td>0.0</td>\n",
       "      <td>...</td>\n",
       "      <td>1.0</td>\n",
       "      <td>1.0</td>\n",
       "      <td>0.0</td>\n",
       "      <td>0.0</td>\n",
       "      <td>0.0</td>\n",
       "      <td>0.0</td>\n",
       "      <td>0.0</td>\n",
       "      <td>0.0</td>\n",
       "      <td>0.0</td>\n",
       "      <td>42.0</td>\n",
       "    </tr>\n",
       "  </tbody>\n",
       "</table>\n",
       "<p>5 rows × 129 columns</p>\n",
       "</div>"
      ],
      "text/plain": [
       "   atout_7_p1  atout_8_p1  atout_9_p1  atout_10_p1  atout_jack_p1  \\\n",
       "0         0.0         0.0         0.0          0.0            0.0   \n",
       "1         0.0         0.0         0.0          0.0            0.0   \n",
       "2         0.0         0.0         0.0          0.0            0.0   \n",
       "3         0.0         0.0         1.0          0.0            0.0   \n",
       "4         0.0         0.0         0.0          0.0            0.0   \n",
       "\n",
       "   atout_queen_p1  atout_king_p1  atout_as_p1  na1_7_p1  na1_8_p1  ...  \\\n",
       "0             0.0            1.0          1.0       1.0       0.0  ...   \n",
       "1             0.0            0.0          0.0       0.0       0.0  ...   \n",
       "2             0.0            0.0          0.0       0.0       0.0  ...   \n",
       "3             0.0            1.0          0.0       1.0       0.0  ...   \n",
       "4             0.0            1.0          0.0       1.0       0.0  ...   \n",
       "\n",
       "   na2_as_p4  na3_7_p4  na3_8_p4  na3_9_p4  na3_10_p4  na3_jack_p4  \\\n",
       "0        0.0       0.0       0.0       0.0        1.0          1.0   \n",
       "1        0.0       1.0       1.0       0.0        0.0          1.0   \n",
       "2        1.0       0.0       0.0       0.0        0.0          0.0   \n",
       "3        0.0       0.0       0.0       0.0        0.0          0.0   \n",
       "4        1.0       1.0       0.0       0.0        0.0          0.0   \n",
       "\n",
       "   na3_queen_p4  na3_king_p4  na3_as_p4  total_reward  \n",
       "0           0.0          0.0        0.0         128.0  \n",
       "1           0.0          0.0        0.0         104.0  \n",
       "2           0.0          1.0        0.0         106.0  \n",
       "3           0.0          0.0        0.0         100.0  \n",
       "4           0.0          0.0        0.0          42.0  \n",
       "\n",
       "[5 rows x 129 columns]"
      ]
     },
     "execution_count": 4,
     "metadata": {},
     "output_type": "execute_result"
    }
   ],
   "source": [
    "random_data.head()"
   ]
  },
  {
   "cell_type": "markdown",
   "metadata": {},
   "source": [
    "## Sizing the test"
   ]
  },
  {
   "cell_type": "markdown",
   "metadata": {},
   "source": [
    "In a first approach, we are making an A/B test. So we need to to have an estimation of the size of the samples that will be needed"
   ]
  },
  {
   "cell_type": "code",
   "execution_count": 5,
   "metadata": {},
   "outputs": [
    {
     "name": "stdout",
     "output_type": "stream",
     "text": [
      "count    5001.000000\n",
      "mean       80.889422\n",
      "std        35.181392\n",
      "min         0.000000\n",
      "25%        55.000000\n",
      "50%        81.000000\n",
      "75%       106.000000\n",
      "max       162.000000\n",
      "Name: total_reward, dtype: float64\n"
     ]
    },
    {
     "data": {
      "image/png": "[encoded data removed]",
      "text/plain": [
       "<Figure size 432x288 with 1 Axes>"
      ]
     },
     "metadata": {
      "needs_background": "light"
     },
     "output_type": "display_data"
    }
   ],
   "source": [
    "plt.hist(random_data[\"total_reward\"])\n",
    "print(random_data[\"total_reward\"].describe())"
   ]
  },
  {
   "cell_type": "code",
   "execution_count": 3,
   "metadata": {
    "collapsed": true
   },
   "outputs": [],
   "source": [
    "# We want to be able to detect one point of difference of total reward for the attack, and one point for defense\n",
    "mde = 1\n",
    "risk1 = 0.05\n",
    "risk2 = 0.2\n",
    "\n",
    "# under a random policy, the distribution is centered in 82 with std of 35\n",
    "std = 35"
   ]
  },
  {
   "cell_type": "code",
   "execution_count": 48,
   "metadata": {},
   "outputs": [
    {
     "data": {
      "text/plain": [
       "19229.755349155268"
      ]
     },
     "execution_count": 48,
     "metadata": {},
     "output_type": "execute_result"
    }
   ],
   "source": [
    "size_sample_AB_test(risk1, risk2, var = std**2, mde = mde, bilateral=True)"
   ]
  },
  {
   "cell_type": "markdown",
   "metadata": {},
   "source": [
    "We will make the assumption that std is not really moving even with better policies.\n",
    "Moreover, we'll take a bit bigger samples to be sure (as it doesn't cost anything to do so)"
   ]
  },
  {
   "cell_type": "markdown",
   "metadata": {},
   "source": [
    "## Comparing policies"
   ]
  },
  {
   "cell_type": "markdown",
   "metadata": {},
   "source": [
    "TOTAL_REWARD is the total reward for the team in which there is the GymPlayer. Usually, it is set for team 0 (player 0 and player 2)"
   ]
  },
  {
   "cell_type": "code",
   "execution_count": 6,
   "metadata": {
    "scrolled": true
   },
   "outputs": [
    {
     "name": "stdout",
     "output_type": "stream",
     "text": [
      "Contrat model passed:  None\n",
      "Contrat model passed:  None\n",
      "INFO:tensorflow:Restoring parameters from ../experiments/coinche/09_05_2020-15_13/checkpoint/311_Step-79961.ckpt\n",
      "INFO:tensorflow:Restoring parameters from ../experiments/coinche/09_05_2020-15_13/checkpoint/311_Step-79961.ckpt\n",
      "<tensorflow.python.keras.engine.sequential.Sequential object at 0x1393ebe50>\n",
      "0\n",
      "500\n",
      "1000\n",
      "1500\n",
      "2000\n",
      "2500\n",
      "3000\n",
      "3500\n",
      "4000\n",
      "4500\n",
      "5000\n",
      "5500\n",
      "6000\n",
      "6500\n",
      "7000\n",
      "7500\n",
      "8000\n",
      "8500\n",
      "9000\n",
      "9500\n",
      "10000\n",
      "10500\n",
      "11000\n",
      "11500\n",
      "12000\n",
      "12500\n",
      "13000\n",
      "13500\n",
      "14000\n",
      "14500\n",
      "15000\n",
      "15500\n",
      "16000\n",
      "16500\n",
      "17000\n",
      "17500\n",
      "18000\n",
      "18500\n",
      "19000\n",
      "19500\n",
      "20000\n",
      "20500\n",
      "21000\n",
      "21500\n",
      "22000\n",
      "22500\n",
      "23000\n",
      "23500\n",
      "24000\n",
      "24500\n",
      "25000\n",
      "25500\n",
      "26000\n",
      "26500\n",
      "27000\n",
      "27500\n",
      "28000\n",
      "28500\n",
      "29000\n",
      "29500\n",
      "30000\n",
      "30500\n",
      "31000\n",
      "31500\n",
      "32000\n",
      "32500\n",
      "33000\n",
      "33500\n",
      "34000\n",
      "34500\n",
      "35000\n",
      "35500\n",
      "36000\n",
      "36500\n",
      "37000\n",
      "37500\n",
      "38000\n",
      "38500\n",
      "39000\n",
      "39500\n",
      "Done\n"
     ]
    }
   ],
   "source": [
    "# Given the A/B test sizing performed above, we need 20000 rounds for attacks and \n",
    "# 20000 for defense. As the reward model is called on random games, attacks and defens\n",
    "# will be 50%-50%\n",
    "\n",
    "NUM_EPISODES = 40000\n",
    "\n",
    "# If we want to save the data after\n",
    "save = True\n",
    "\n",
    "#Policy_algo is a list. Each value of the list is the policy of player i\n",
    "policy_algo = [\"../experiments/coinche/09_05_2020-15_13/checkpoint/311_Step-79961.ckpt\",\n",
    "               \"Random\",\n",
    "               '../experiments/coinche/09_05_2020-15_13/checkpoint/311_Step-79961.ckpt',\n",
    "               \"Random\"]\n",
    "\n",
    "# contrat_model_path is none if we want to set the contrat given the games quality\n",
    "contrat_model_path = \"../reward_prediction/reward_model.h5\"\n",
    "# contrat_model_path = None\n",
    "\n",
    "competition_data, competition_attack = policy_competition(policies=policy_algo, \n",
    "                                                          env_name = \"coinche-v3\",\n",
    "                                                          contrat_model_path=contrat_model_path, \n",
    "                                                          NUM_EPISODES=NUM_EPISODES)\n",
    "\n",
    "if save:\n",
    "    competition_data.to_csv(\"./data/competition_against_random.csv\")\n",
    "    competition_attack.to_csv(\"./data/attacks_against_random.csv\")\n",
    "    \n",
    "    competition_data = pd.read_csv(\"./data/competition_against_random.csv\")\n",
    "    competition_attack = pd.read_csv(\"./data/attacks_against_random.csv\")"
   ]
  },
  {
   "cell_type": "code",
   "execution_count": 8,
   "metadata": {},
   "outputs": [
    {
     "data": {
      "text/plain": [
       "0    20076\n",
       "1    19924\n",
       "Name: p0, dtype: int64"
      ]
     },
     "execution_count": 8,
     "metadata": {},
     "output_type": "execute_result"
    }
   ],
   "source": [
    "competition_data = competition_data.merge(competition_attack,\n",
    "                                          right_index = True,\n",
    "                                          left_index = True)\n",
    "\n",
    "competition_data['total_reward_team_02'] = competition_data['total_reward']\n",
    "competition_data['total_reward_team_13'] = 162-competition_data['total_reward']\n",
    "\n",
    "# Check repartition of attack vs defens\n",
    "competition_data['p0'].value_counts()"
   ]
  },
  {
   "cell_type": "markdown",
   "metadata": {},
   "source": [
    "Let's set the attack and defens datasets"
   ]
  },
  {
   "cell_type": "code",
   "execution_count": 29,
   "metadata": {},
   "outputs": [
    {
     "data": {
      "image/png": "[encoded data removed]",
      "text/plain": [
       "<Figure size 432x288 with 1 Axes>"
      ]
     },
     "metadata": {
      "needs_background": "light"
     },
     "output_type": "display_data"
    }
   ],
   "source": [
    "attack_02 = competition_data[competition_data['p0']==1]['total_reward_team_02']\n",
    "defens_02 = competition_data[competition_data['p0']==0]['total_reward_team_02']\n",
    "attack_13 = competition_data[competition_data['p1']==1]['total_reward_team_13']\n",
    "defens_13 = competition_data[competition_data['p1']==0]['total_reward_team_13']\n",
    "\n",
    "kwargs = dict(histtype='step', \n",
    "              bins=np.arange(0, 162, 2))\n",
    "\n",
    "plt.hist(attack_02,  label = \"attack_02\", **kwargs)\n",
    "plt.hist(defens_02, label = \"defens_02\",  **kwargs)\n",
    "plt.hist(attack_13,  label = \"attack_13\", **kwargs)\n",
    "plt.hist(defens_13, label = \"defens_13\",  **kwargs)\n",
    "plt.legend()\n",
    "plt.show()\n"
   ]
  },
  {
   "cell_type": "code",
   "execution_count": 10,
   "metadata": {},
   "outputs": [
    {
     "data": {
      "text/plain": [
       "(count    20076.000000\n",
       " mean        46.856794\n",
       " std         25.567250\n",
       " min          0.000000\n",
       " 25%         28.000000\n",
       " 50%         45.000000\n",
       " 75%         64.000000\n",
       " max        144.000000\n",
       " Name: total_reward_team_02, dtype: float64,\n",
       " count    19924.000000\n",
       " mean        43.182594\n",
       " std         25.254417\n",
       " min          0.000000\n",
       " 25%         24.000000\n",
       " 50%         42.000000\n",
       " 75%         60.000000\n",
       " max        149.000000\n",
       " Name: total_reward_team_13, dtype: float64)"
      ]
     },
     "execution_count": 10,
     "metadata": {},
     "output_type": "execute_result"
    }
   ],
   "source": [
    "defens_02.describe(), defens_13.describe()"
   ]
  },
  {
   "cell_type": "code",
   "execution_count": 11,
   "metadata": {},
   "outputs": [
    {
     "data": {
      "text/plain": [
       "(count    19924.000000\n",
       " mean       118.817406\n",
       " std         25.254417\n",
       " min         13.000000\n",
       " 25%        102.000000\n",
       " 50%        120.000000\n",
       " 75%        138.000000\n",
       " max        162.000000\n",
       " Name: total_reward_team_02, dtype: float64,\n",
       " count    20076.000000\n",
       " mean       115.143206\n",
       " std         25.567250\n",
       " min         18.000000\n",
       " 25%         98.000000\n",
       " 50%        117.000000\n",
       " 75%        134.000000\n",
       " max        162.000000\n",
       " Name: total_reward_team_13, dtype: float64)"
      ]
     },
     "execution_count": 11,
     "metadata": {},
     "output_type": "execute_result"
    }
   ],
   "source": [
    "attack_02.describe(), attack_13.describe()"
   ]
  },
  {
   "cell_type": "markdown",
   "metadata": {},
   "source": [
    "#### Let's perform the tests"
   ]
  },
  {
   "cell_type": "code",
   "execution_count": 24,
   "metadata": {},
   "outputs": [
    {
     "name": "stdout",
     "output_type": "stream",
     "text": [
      "test attacks:  (True, 1.959963984540054, -14.459510146699229)\n",
      "power attacks:  0.9758916149831429\n",
      "test defens:  (True, 1.959963984540054, -14.459510146699229)\n",
      "power attacks:  0.9758916149831429\n"
     ]
    }
   ],
   "source": [
    "# Attack\n",
    "\n",
    "print('test attacks: ', test_H0(attack_02, attack_13, risk1, bilateral=True))\n",
    "print(\"power attacks: \", power_test(attack_02, attack_13, mde, risk1, bilateral=True))\n",
    "print('test defens: ', test_H0(defens_02, defens_13, risk1, bilateral=True))\n",
    "print(\"power attacks: \", power_test(defens_02, defens_13, mde, risk1, bilateral=True))"
   ]
  },
  {
   "cell_type": "markdown",
   "metadata": {},
   "source": [
    "If test_H0 returns True, then, we can accept H0, that is to say that the tested distribution have the same MEAN.\n",
    "In that case, we check the power of the test. It should be greated than risk2 = 80%\n",
    "\n",
    "If test_H0 is False, please check the value of the confidence of intervale to check the value of the difference of the means between the two distribution"
   ]
  },
  {
   "cell_type": "code",
   "execution_count": 26,
   "metadata": {},
   "outputs": [
    {
     "name": "stdout",
     "output_type": "stream",
     "text": [
      "(-4.172232432820913, -3.1761682180844915, 1.959963984540054)\n",
      "(-4.172232432820913, -3.1761682180844915, 1.959963984540054)\n"
     ]
    }
   ],
   "source": [
    "print(confidence_interval_diff(attack_02, attack_13))\n",
    "print(confidence_interval_diff(defens_02, defens_13))"
   ]
  },
  {
   "cell_type": "code",
   "execution_count": null,
   "metadata": {
    "collapsed": true
   },
   "outputs": [],
   "source": []
  }
 ],
 "metadata": {
  "kernelspec": {
   "display_name": "Python [conda env:gym-coinche]",
   "language": "python",
   "name": "conda-env-gym-coinche-py"
  },
  "language_info": {
   "codemirror_mode": {
    "name": "ipython",
    "version": 3
   },
   "file_extension": ".py",
   "mimetype": "text/x-python",
   "name": "python",
   "nbconvert_exporter": "python",
   "pygments_lexer": "ipython3",
   "version": "3.7.5"
  }
 },
 "nbformat": 4,
 "nbformat_minor": 4
}
