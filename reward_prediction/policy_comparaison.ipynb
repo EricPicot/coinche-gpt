{
 "cells": [
  {
   "cell_type": "markdown",
   "metadata": {},
   "source": [
    "# Comparaison of two policies"
   ]
  },
  {
   "cell_type": "markdown",
   "metadata": {},
   "source": [
    "In this notebook, we give the possibilty to compare two policies\n",
    "\n",
    "Given two trained policies, for each policy we will simulate a certain number of rounds against a random policy, and we check if one is significantly better than the other"
   ]
  },
  {
   "cell_type": "markdown",
   "metadata": {},
   "source": [
    "## Imports"
   ]
  },
  {
   "cell_type": "code",
   "execution_count": 1,
   "metadata": {},
   "outputs": [
    {
     "name": "stderr",
     "output_type": "stream",
     "text": [
      "/anaconda/envs/gym-coinche/lib/python3.7/site-packages/tensorflow/python/framework/dtypes.py:516: FutureWarning: Passing (type, 1) or '1type' as a synonym of type is deprecated; in a future version of numpy, it will be understood as (type, (1,)) / '(1,)type'.\n",
      "  _np_qint8 = np.dtype([(\"qint8\", np.int8, 1)])\n",
      "/anaconda/envs/gym-coinche/lib/python3.7/site-packages/tensorflow/python/framework/dtypes.py:517: FutureWarning: Passing (type, 1) or '1type' as a synonym of type is deprecated; in a future version of numpy, it will be understood as (type, (1,)) / '(1,)type'.\n",
      "  _np_quint8 = np.dtype([(\"quint8\", np.uint8, 1)])\n",
      "/anaconda/envs/gym-coinche/lib/python3.7/site-packages/tensorflow/python/framework/dtypes.py:518: FutureWarning: Passing (type, 1) or '1type' as a synonym of type is deprecated; in a future version of numpy, it will be understood as (type, (1,)) / '(1,)type'.\n",
      "  _np_qint16 = np.dtype([(\"qint16\", np.int16, 1)])\n",
      "/anaconda/envs/gym-coinche/lib/python3.7/site-packages/tensorflow/python/framework/dtypes.py:519: FutureWarning: Passing (type, 1) or '1type' as a synonym of type is deprecated; in a future version of numpy, it will be understood as (type, (1,)) / '(1,)type'.\n",
      "  _np_quint16 = np.dtype([(\"quint16\", np.uint16, 1)])\n",
      "/anaconda/envs/gym-coinche/lib/python3.7/site-packages/tensorflow/python/framework/dtypes.py:520: FutureWarning: Passing (type, 1) or '1type' as a synonym of type is deprecated; in a future version of numpy, it will be understood as (type, (1,)) / '(1,)type'.\n",
      "  _np_qint32 = np.dtype([(\"qint32\", np.int32, 1)])\n",
      "/anaconda/envs/gym-coinche/lib/python3.7/site-packages/tensorflow/python/framework/dtypes.py:525: FutureWarning: Passing (type, 1) or '1type' as a synonym of type is deprecated; in a future version of numpy, it will be understood as (type, (1,)) / '(1,)type'.\n",
      "  np_resource = np.dtype([(\"resource\", np.ubyte, 1)])\n",
      "/anaconda/envs/gym-coinche/lib/python3.7/site-packages/tensorboard/compat/tensorflow_stub/dtypes.py:541: FutureWarning: Passing (type, 1) or '1type' as a synonym of type is deprecated; in a future version of numpy, it will be understood as (type, (1,)) / '(1,)type'.\n",
      "  _np_qint8 = np.dtype([(\"qint8\", np.int8, 1)])\n",
      "/anaconda/envs/gym-coinche/lib/python3.7/site-packages/tensorboard/compat/tensorflow_stub/dtypes.py:542: FutureWarning: Passing (type, 1) or '1type' as a synonym of type is deprecated; in a future version of numpy, it will be understood as (type, (1,)) / '(1,)type'.\n",
      "  _np_quint8 = np.dtype([(\"quint8\", np.uint8, 1)])\n",
      "/anaconda/envs/gym-coinche/lib/python3.7/site-packages/tensorboard/compat/tensorflow_stub/dtypes.py:543: FutureWarning: Passing (type, 1) or '1type' as a synonym of type is deprecated; in a future version of numpy, it will be understood as (type, (1,)) / '(1,)type'.\n",
      "  _np_qint16 = np.dtype([(\"qint16\", np.int16, 1)])\n",
      "/anaconda/envs/gym-coinche/lib/python3.7/site-packages/tensorboard/compat/tensorflow_stub/dtypes.py:544: FutureWarning: Passing (type, 1) or '1type' as a synonym of type is deprecated; in a future version of numpy, it will be understood as (type, (1,)) / '(1,)type'.\n",
      "  _np_quint16 = np.dtype([(\"quint16\", np.uint16, 1)])\n",
      "/anaconda/envs/gym-coinche/lib/python3.7/site-packages/tensorboard/compat/tensorflow_stub/dtypes.py:545: FutureWarning: Passing (type, 1) or '1type' as a synonym of type is deprecated; in a future version of numpy, it will be understood as (type, (1,)) / '(1,)type'.\n",
      "  _np_qint32 = np.dtype([(\"qint32\", np.int32, 1)])\n",
      "/anaconda/envs/gym-coinche/lib/python3.7/site-packages/tensorboard/compat/tensorflow_stub/dtypes.py:550: FutureWarning: Passing (type, 1) or '1type' as a synonym of type is deprecated; in a future version of numpy, it will be understood as (type, (1,)) / '(1,)type'.\n",
      "  np_resource = np.dtype([(\"resource\", np.ubyte, 1)])\n"
     ]
    }
   ],
   "source": [
    "import statsmodels\n",
    "import pandas as pd\n",
    "import numpy as np\n",
    "import scipy.stats as scs\n",
    "import sys\n",
    "sys.path.append(\"../\")\n",
    "import matplotlib.pyplot as plt\n",
    "\n",
    "from policy_against_random_generation import policy_competition"
   ]
  },
  {
   "cell_type": "code",
   "execution_count": 3,
   "metadata": {},
   "outputs": [
    {
     "name": "stdout",
     "output_type": "stream",
     "text": [
      "Contrat model passed:  None\n",
      "Contrat model passed:  None\n",
      "0\n",
      "500\n",
      "1000\n",
      "1500\n",
      "2000\n",
      "2500\n",
      "3000\n",
      "3500\n",
      "4000\n",
      "4500\n",
      "5000\n",
      "Done\n"
     ]
    }
   ],
   "source": [
    "NUM_EPISODES = 5001\n",
    "policy_algo = [\"Random\",\n",
    "               \"Random\",\n",
    "               \"Random\",\n",
    "               \"Random\"]\n",
    "\n",
    "contrat_model_path = None\n",
    "\n",
    "\n",
    "random_data, random_attack = policy_competition(policies=policy_algo, \n",
    "                                                env_name = \"coinche-v3\",\n",
    "                                                contrat_model_path=contrat_model_path, \n",
    "                                                NUM_EPISODES=NUM_EPISODES)"
   ]
  },
  {
   "cell_type": "code",
   "execution_count": 4,
   "metadata": {},
   "outputs": [
    {
     "data": {
      "text/html": [
       "<div>\n",
       "<style scoped>\n",
       "    .dataframe tbody tr th:only-of-type {\n",
       "        vertical-align: middle;\n",
       "    }\n",
       "\n",
       "    .dataframe tbody tr th {\n",
       "        vertical-align: top;\n",
       "    }\n",
       "\n",
       "    .dataframe thead th {\n",
       "        text-align: right;\n",
       "    }\n",
       "</style>\n",
       "<table border=\"1\" class=\"dataframe\">\n",
       "  <thead>\n",
       "    <tr style=\"text-align: right;\">\n",
       "      <th></th>\n",
       "      <th>atout_7_p1</th>\n",
       "      <th>atout_8_p1</th>\n",
       "      <th>atout_9_p1</th>\n",
       "      <th>atout_10_p1</th>\n",
       "      <th>atout_jack_p1</th>\n",
       "      <th>atout_queen_p1</th>\n",
       "      <th>atout_king_p1</th>\n",
       "      <th>atout_as_p1</th>\n",
       "      <th>na1_7_p1</th>\n",
       "      <th>na1_8_p1</th>\n",
       "      <th>...</th>\n",
       "      <th>na2_as_p4</th>\n",
       "      <th>na3_7_p4</th>\n",
       "      <th>na3_8_p4</th>\n",
       "      <th>na3_9_p4</th>\n",
       "      <th>na3_10_p4</th>\n",
       "      <th>na3_jack_p4</th>\n",
       "      <th>na3_queen_p4</th>\n",
       "      <th>na3_king_p4</th>\n",
       "      <th>na3_as_p4</th>\n",
       "      <th>total_reward</th>\n",
       "    </tr>\n",
       "  </thead>\n",
       "  <tbody>\n",
       "    <tr>\n",
       "      <th>0</th>\n",
       "      <td>0.0</td>\n",
       "      <td>0.0</td>\n",
       "      <td>0.0</td>\n",
       "      <td>0.0</td>\n",
       "      <td>0.0</td>\n",
       "      <td>0.0</td>\n",
       "      <td>1.0</td>\n",
       "      <td>1.0</td>\n",
       "      <td>1.0</td>\n",
       "      <td>0.0</td>\n",
       "      <td>...</td>\n",
       "      <td>0.0</td>\n",
       "      <td>0.0</td>\n",
       "      <td>0.0</td>\n",
       "      <td>0.0</td>\n",
       "      <td>1.0</td>\n",
       "      <td>1.0</td>\n",
       "      <td>0.0</td>\n",
       "      <td>0.0</td>\n",
       "      <td>0.0</td>\n",
       "      <td>128.0</td>\n",
       "    </tr>\n",
       "    <tr>\n",
       "      <th>1</th>\n",
       "      <td>0.0</td>\n",
       "      <td>0.0</td>\n",
       "      <td>0.0</td>\n",
       "      <td>0.0</td>\n",
       "      <td>0.0</td>\n",
       "      <td>0.0</td>\n",
       "      <td>0.0</td>\n",
       "      <td>0.0</td>\n",
       "      <td>0.0</td>\n",
       "      <td>0.0</td>\n",
       "      <td>...</td>\n",
       "      <td>0.0</td>\n",
       "      <td>1.0</td>\n",
       "      <td>1.0</td>\n",
       "      <td>0.0</td>\n",
       "      <td>0.0</td>\n",
       "      <td>1.0</td>\n",
       "      <td>0.0</td>\n",
       "      <td>0.0</td>\n",
       "      <td>0.0</td>\n",
       "      <td>104.0</td>\n",
       "    </tr>\n",
       "    <tr>\n",
       "      <th>2</th>\n",
       "      <td>0.0</td>\n",
       "      <td>0.0</td>\n",
       "      <td>0.0</td>\n",
       "      <td>0.0</td>\n",
       "      <td>0.0</td>\n",
       "      <td>0.0</td>\n",
       "      <td>0.0</td>\n",
       "      <td>0.0</td>\n",
       "      <td>0.0</td>\n",
       "      <td>0.0</td>\n",
       "      <td>...</td>\n",
       "      <td>1.0</td>\n",
       "      <td>0.0</td>\n",
       "      <td>0.0</td>\n",
       "      <td>0.0</td>\n",
       "      <td>0.0</td>\n",
       "      <td>0.0</td>\n",
       "      <td>0.0</td>\n",
       "      <td>1.0</td>\n",
       "      <td>0.0</td>\n",
       "      <td>106.0</td>\n",
       "    </tr>\n",
       "    <tr>\n",
       "      <th>3</th>\n",
       "      <td>0.0</td>\n",
       "      <td>0.0</td>\n",
       "      <td>1.0</td>\n",
       "      <td>0.0</td>\n",
       "      <td>0.0</td>\n",
       "      <td>0.0</td>\n",
       "      <td>1.0</td>\n",
       "      <td>0.0</td>\n",
       "      <td>1.0</td>\n",
       "      <td>0.0</td>\n",
       "      <td>...</td>\n",
       "      <td>0.0</td>\n",
       "      <td>0.0</td>\n",
       "      <td>0.0</td>\n",
       "      <td>0.0</td>\n",
       "      <td>0.0</td>\n",
       "      <td>0.0</td>\n",
       "      <td>0.0</td>\n",
       "      <td>0.0</td>\n",
       "      <td>0.0</td>\n",
       "      <td>100.0</td>\n",
       "    </tr>\n",
       "    <tr>\n",
       "      <th>4</th>\n",
       "      <td>0.0</td>\n",
       "      <td>0.0</td>\n",
       "      <td>0.0</td>\n",
       "      <td>0.0</td>\n",
       "      <td>0.0</td>\n",
       "      <td>0.0</td>\n",
       "      <td>1.0</td>\n",
       "      <td>0.0</td>\n",
       "      <td>1.0</td>\n",
       "      <td>0.0</td>\n",
       "      <td>...</td>\n",
       "      <td>1.0</td>\n",
       "      <td>1.0</td>\n",
       "      <td>0.0</td>\n",
       "      <td>0.0</td>\n",
       "      <td>0.0</td>\n",
       "      <td>0.0</td>\n",
       "      <td>0.0</td>\n",
       "      <td>0.0</td>\n",
       "      <td>0.0</td>\n",
       "      <td>42.0</td>\n",
       "    </tr>\n",
       "  </tbody>\n",
       "</table>\n",
       "<p>5 rows × 129 columns</p>\n",
       "</div>"
      ],
      "text/plain": [
       "   atout_7_p1  atout_8_p1  atout_9_p1  atout_10_p1  atout_jack_p1  \\\n",
       "0         0.0         0.0         0.0          0.0            0.0   \n",
       "1         0.0         0.0         0.0          0.0            0.0   \n",
       "2         0.0         0.0         0.0          0.0            0.0   \n",
       "3         0.0         0.0         1.0          0.0            0.0   \n",
       "4         0.0         0.0         0.0          0.0            0.0   \n",
       "\n",
       "   atout_queen_p1  atout_king_p1  atout_as_p1  na1_7_p1  na1_8_p1  ...  \\\n",
       "0             0.0            1.0          1.0       1.0       0.0  ...   \n",
       "1             0.0            0.0          0.0       0.0       0.0  ...   \n",
       "2             0.0            0.0          0.0       0.0       0.0  ...   \n",
       "3             0.0            1.0          0.0       1.0       0.0  ...   \n",
       "4             0.0            1.0          0.0       1.0       0.0  ...   \n",
       "\n",
       "   na2_as_p4  na3_7_p4  na3_8_p4  na3_9_p4  na3_10_p4  na3_jack_p4  \\\n",
       "0        0.0       0.0       0.0       0.0        1.0          1.0   \n",
       "1        0.0       1.0       1.0       0.0        0.0          1.0   \n",
       "2        1.0       0.0       0.0       0.0        0.0          0.0   \n",
       "3        0.0       0.0       0.0       0.0        0.0          0.0   \n",
       "4        1.0       1.0       0.0       0.0        0.0          0.0   \n",
       "\n",
       "   na3_queen_p4  na3_king_p4  na3_as_p4  total_reward  \n",
       "0           0.0          0.0        0.0         128.0  \n",
       "1           0.0          0.0        0.0         104.0  \n",
       "2           0.0          1.0        0.0         106.0  \n",
       "3           0.0          0.0        0.0         100.0  \n",
       "4           0.0          0.0        0.0          42.0  \n",
       "\n",
       "[5 rows x 129 columns]"
      ]
     },
     "execution_count": 4,
     "metadata": {},
     "output_type": "execute_result"
    }
   ],
   "source": [
    "random_data.head()"
   ]
  },
  {
   "cell_type": "markdown",
   "metadata": {},
   "source": [
    "## Sizing the test"
   ]
  },
  {
   "cell_type": "markdown",
   "metadata": {},
   "source": [
    "In a first approach, we are making an A/B test. So we need to to have an estimation of the size of the samples that will be needed"
   ]
  },
  {
   "cell_type": "code",
   "execution_count": 5,
   "metadata": {},
   "outputs": [
    {
     "name": "stdout",
     "output_type": "stream",
     "text": [
      "count    5001.000000\n",
      "mean       80.889422\n",
      "std        35.181392\n",
      "min         0.000000\n",
      "25%        55.000000\n",
      "50%        81.000000\n",
      "75%       106.000000\n",
      "max       162.000000\n",
      "Name: total_reward, dtype: float64\n"
     ]
    },
    {
     "data": {
      "image/png": "[encoded data removed]",
      "text/plain": [
       "<Figure size 432x288 with 1 Axes>"
      ]
     },
     "metadata": {
      "needs_background": "light"
     },
     "output_type": "display_data"
    }
   ],
   "source": [
    "plt.hist(random_data[\"total_reward\"])\n",
    "print(random_data[\"total_reward\"].describe())"
   ]
  },
  {
   "cell_type": "code",
   "execution_count": 6,
   "metadata": {
    "collapsed": true
   },
   "outputs": [],
   "source": [
    "# We want to be able to detect one point of difference of total reward for the attack, and one point for defense\n",
    "mde = 1\n",
    "risk1 = 0.05\n",
    "risk2 = 0.2\n",
    "\n",
    "# under a random policy, the distribution is centered in 82 with std of 35\n",
    "std = 35"
   ]
  },
  {
   "cell_type": "code",
   "execution_count": 7,
   "metadata": {},
   "outputs": [
    {
     "data": {
      "text/plain": [
       "19229.755349155268"
      ]
     },
     "execution_count": 7,
     "metadata": {},
     "output_type": "execute_result"
    }
   ],
   "source": [
    "def size_sample_AB_test(risk1, risk2, var, mde, bilateral=False):\n",
    "\n",
    "    if bilateral:\n",
    "        Z_alpha = scs.norm(0, 1).ppf(1 - risk1/2)\n",
    "    else:\n",
    "        Z_alpha = scs.norm(0, 1).ppf(1 - risk1)\n",
    "\n",
    "    Z_beta = scs.norm(0, 1).ppf(1 - risk2)\n",
    "\n",
    "    min_N = (2*(var)*(Z_beta + Z_alpha)**2 / mde**2)\n",
    "\n",
    "    return min_N\n",
    "\n",
    "size_sample_AB_test(risk1, risk2, var = std**2, mde = mde, bilateral=True)"
   ]
  },
  {
   "cell_type": "markdown",
   "metadata": {},
   "source": [
    "We will make the assumption that std is not really moving even with better policies.\n",
    "Moreover, we'll take a bit bigger samples to be sure (as it doesn't cost anything to do so)"
   ]
  },
  {
   "cell_type": "markdown",
   "metadata": {},
   "source": [
    "## Comparing policies"
   ]
  },
  {
   "cell_type": "code",
   "execution_count": null,
   "metadata": {
    "collapsed": true
   },
   "outputs": [],
   "source": [
    "policy_algo = [\"experiments/coinche/08_05_2020-16_10/checkpoint/0_Step-81.ckpt\",\n",
    "               \"experiments/coinche/08_05_2020-16_10/checkpoint/1_Step-434.ckpt\"]\n"
   ]
  },
  {
   "cell_type": "code",
   "execution_count": null,
   "metadata": {},
   "outputs": [
    {
     "name": "stdout",
     "output_type": "stream",
     "text": [
      "Contrat model passed:  None\n",
      "Contrat model passed:  None\n",
      "WARNING:tensorflow:From ../coinche/player.py:71: The name tf.global_variables_initializer is deprecated. Please use tf.compat.v1.global_variables_initializer instead.\n",
      "\n",
      "WARNING:tensorflow:From /anaconda/envs/gym-coinche/lib/python3.7/site-packages/tensorflow/python/training/saver.py:1276: checkpoint_exists (from tensorflow.python.training.checkpoint_management) is deprecated and will be removed in a future version.\n",
      "Instructions for updating:\n",
      "Use standard file APIs to check for files with this prefix.\n",
      "INFO:tensorflow:Restoring parameters from ../experiments/coinche/08_05_2020-16_10/checkpoint/0_Step-81.ckpt\n",
      "INFO:tensorflow:Restoring parameters from ../experiments/coinche/08_05_2020-16_10/checkpoint/1_Step-434.ckpt\n",
      "INFO:tensorflow:Restoring parameters from ../experiments/coinche/08_05_2020-16_10/checkpoint/0_Step-81.ckpt\n",
      "INFO:tensorflow:Restoring parameters from ../experiments/coinche/08_05_2020-16_10/checkpoint/1_Step-434.ckpt\n",
      "0\n",
      "500\n",
      "1000\n",
      "1500\n",
      "2000\n",
      "2500\n",
      "3000\n",
      "3500\n",
      "4000\n"
     ]
    }
   ],
   "source": [
    "NUM_EPISODES = 40000\n",
    "policy_algo = [\"../experiments/coinche/08_05_2020-16_10/checkpoint/0_Step-81.ckpt\",\n",
    "               \"../experiments/coinche/08_05_2020-16_10/checkpoint/1_Step-434.ckpt\",\n",
    "               \"../experiments/coinche/08_05_2020-16_10/checkpoint/0_Step-81.ckpt\",\n",
    "               \"../experiments/coinche/08_05_2020-16_10/checkpoint/1_Step-434.ckpt\"]\n",
    "\n",
    "contrat_model_path = \"reward_prediction/reward_model.h5\"\n",
    "\n",
    "\n",
    "competition_data, competition_attack = policy_competition(policies=policy_algo, env_name = \"coinche-v3\",\n",
    "                       contrat_model_path=contrat_model_path, NUM_EPISODES=NUM_EPISODES)"
   ]
  },
  {
   "cell_type": "code",
   "execution_count": 3,
   "metadata": {},
   "outputs": [
    {
     "data": {
      "text/html": [
       "<div>\n",
       "<style scoped>\n",
       "    .dataframe tbody tr th:only-of-type {\n",
       "        vertical-align: middle;\n",
       "    }\n",
       "\n",
       "    .dataframe tbody tr th {\n",
       "        vertical-align: top;\n",
       "    }\n",
       "\n",
       "    .dataframe thead th {\n",
       "        text-align: right;\n",
       "    }\n",
       "</style>\n",
       "<table border=\"1\" class=\"dataframe\">\n",
       "  <thead>\n",
       "    <tr style=\"text-align: right;\">\n",
       "      <th></th>\n",
       "      <th>atout_7_p1</th>\n",
       "      <th>atout_8_p1</th>\n",
       "      <th>atout_9_p1</th>\n",
       "      <th>atout_10_p1</th>\n",
       "      <th>atout_jack_p1</th>\n",
       "      <th>atout_queen_p1</th>\n",
       "      <th>atout_king_p1</th>\n",
       "      <th>atout_as_p1</th>\n",
       "      <th>na1_7_p1</th>\n",
       "      <th>na1_8_p1</th>\n",
       "      <th>...</th>\n",
       "      <th>na3_10_p4</th>\n",
       "      <th>na3_jack_p4</th>\n",
       "      <th>na3_queen_p4</th>\n",
       "      <th>na3_king_p4</th>\n",
       "      <th>na3_as_p4</th>\n",
       "      <th>total_reward</th>\n",
       "      <th>p0</th>\n",
       "      <th>p1</th>\n",
       "      <th>p2</th>\n",
       "      <th>p3</th>\n",
       "    </tr>\n",
       "  </thead>\n",
       "  <tbody>\n",
       "    <tr>\n",
       "      <th>0</th>\n",
       "      <td>0.0</td>\n",
       "      <td>0.0</td>\n",
       "      <td>0.0</td>\n",
       "      <td>0.0</td>\n",
       "      <td>1.0</td>\n",
       "      <td>1.0</td>\n",
       "      <td>0.0</td>\n",
       "      <td>0.0</td>\n",
       "      <td>0.0</td>\n",
       "      <td>0.0</td>\n",
       "      <td>...</td>\n",
       "      <td>0.0</td>\n",
       "      <td>0.0</td>\n",
       "      <td>0.0</td>\n",
       "      <td>0.0</td>\n",
       "      <td>0.0</td>\n",
       "      <td>97.0</td>\n",
       "      <td>1</td>\n",
       "      <td>0</td>\n",
       "      <td>1</td>\n",
       "      <td>0</td>\n",
       "    </tr>\n",
       "    <tr>\n",
       "      <th>1</th>\n",
       "      <td>0.0</td>\n",
       "      <td>1.0</td>\n",
       "      <td>0.0</td>\n",
       "      <td>0.0</td>\n",
       "      <td>0.0</td>\n",
       "      <td>0.0</td>\n",
       "      <td>0.0</td>\n",
       "      <td>0.0</td>\n",
       "      <td>0.0</td>\n",
       "      <td>1.0</td>\n",
       "      <td>...</td>\n",
       "      <td>0.0</td>\n",
       "      <td>0.0</td>\n",
       "      <td>0.0</td>\n",
       "      <td>0.0</td>\n",
       "      <td>0.0</td>\n",
       "      <td>52.0</td>\n",
       "      <td>1</td>\n",
       "      <td>0</td>\n",
       "      <td>1</td>\n",
       "      <td>0</td>\n",
       "    </tr>\n",
       "    <tr>\n",
       "      <th>2</th>\n",
       "      <td>1.0</td>\n",
       "      <td>0.0</td>\n",
       "      <td>0.0</td>\n",
       "      <td>0.0</td>\n",
       "      <td>0.0</td>\n",
       "      <td>0.0</td>\n",
       "      <td>0.0</td>\n",
       "      <td>0.0</td>\n",
       "      <td>0.0</td>\n",
       "      <td>0.0</td>\n",
       "      <td>...</td>\n",
       "      <td>0.0</td>\n",
       "      <td>0.0</td>\n",
       "      <td>0.0</td>\n",
       "      <td>1.0</td>\n",
       "      <td>0.0</td>\n",
       "      <td>136.0</td>\n",
       "      <td>0</td>\n",
       "      <td>1</td>\n",
       "      <td>0</td>\n",
       "      <td>1</td>\n",
       "    </tr>\n",
       "    <tr>\n",
       "      <th>3</th>\n",
       "      <td>0.0</td>\n",
       "      <td>0.0</td>\n",
       "      <td>0.0</td>\n",
       "      <td>0.0</td>\n",
       "      <td>0.0</td>\n",
       "      <td>0.0</td>\n",
       "      <td>0.0</td>\n",
       "      <td>0.0</td>\n",
       "      <td>0.0</td>\n",
       "      <td>0.0</td>\n",
       "      <td>...</td>\n",
       "      <td>0.0</td>\n",
       "      <td>0.0</td>\n",
       "      <td>0.0</td>\n",
       "      <td>1.0</td>\n",
       "      <td>1.0</td>\n",
       "      <td>114.0</td>\n",
       "      <td>1</td>\n",
       "      <td>0</td>\n",
       "      <td>1</td>\n",
       "      <td>0</td>\n",
       "    </tr>\n",
       "    <tr>\n",
       "      <th>4</th>\n",
       "      <td>0.0</td>\n",
       "      <td>0.0</td>\n",
       "      <td>0.0</td>\n",
       "      <td>0.0</td>\n",
       "      <td>1.0</td>\n",
       "      <td>0.0</td>\n",
       "      <td>0.0</td>\n",
       "      <td>0.0</td>\n",
       "      <td>0.0</td>\n",
       "      <td>1.0</td>\n",
       "      <td>...</td>\n",
       "      <td>0.0</td>\n",
       "      <td>0.0</td>\n",
       "      <td>1.0</td>\n",
       "      <td>1.0</td>\n",
       "      <td>0.0</td>\n",
       "      <td>74.0</td>\n",
       "      <td>0</td>\n",
       "      <td>1</td>\n",
       "      <td>0</td>\n",
       "      <td>1</td>\n",
       "    </tr>\n",
       "  </tbody>\n",
       "</table>\n",
       "<p>5 rows × 133 columns</p>\n",
       "</div>"
      ],
      "text/plain": [
       "   atout_7_p1  atout_8_p1  atout_9_p1  atout_10_p1  atout_jack_p1  \\\n",
       "0         0.0         0.0         0.0          0.0            1.0   \n",
       "1         0.0         1.0         0.0          0.0            0.0   \n",
       "2         1.0         0.0         0.0          0.0            0.0   \n",
       "3         0.0         0.0         0.0          0.0            0.0   \n",
       "4         0.0         0.0         0.0          0.0            1.0   \n",
       "\n",
       "   atout_queen_p1  atout_king_p1  atout_as_p1  na1_7_p1  na1_8_p1  ...  \\\n",
       "0             1.0            0.0          0.0       0.0       0.0  ...   \n",
       "1             0.0            0.0          0.0       0.0       1.0  ...   \n",
       "2             0.0            0.0          0.0       0.0       0.0  ...   \n",
       "3             0.0            0.0          0.0       0.0       0.0  ...   \n",
       "4             0.0            0.0          0.0       0.0       1.0  ...   \n",
       "\n",
       "   na3_10_p4  na3_jack_p4  na3_queen_p4  na3_king_p4  na3_as_p4  total_reward  \\\n",
       "0        0.0          0.0           0.0          0.0        0.0          97.0   \n",
       "1        0.0          0.0           0.0          0.0        0.0          52.0   \n",
       "2        0.0          0.0           0.0          1.0        0.0         136.0   \n",
       "3        0.0          0.0           0.0          1.0        1.0         114.0   \n",
       "4        0.0          0.0           1.0          1.0        0.0          74.0   \n",
       "\n",
       "   p0  p1  p2  p3  \n",
       "0   1   0   1   0  \n",
       "1   1   0   1   0  \n",
       "2   0   1   0   1  \n",
       "3   1   0   1   0  \n",
       "4   0   1   0   1  \n",
       "\n",
       "[5 rows x 133 columns]"
      ]
     },
     "execution_count": 3,
     "metadata": {},
     "output_type": "execute_result"
    }
   ],
   "source": [
    "competition_data = competition_data.merge(competition_attack, right_index = True,\n",
    "                               left_index = True)\n",
    "\n",
    "competition_data.head()"
   ]
  },
  {
   "cell_type": "code",
   "execution_count": 4,
   "metadata": {
    "collapsed": true
   },
   "outputs": [],
   "source": [
    "competition_data.loc[:,'total_reward_team_02'] = np.where(competition_data['p0']==1, \n",
    "                                                          competition_data['total_reward'],\n",
    "                                                          162-competition_data['total_reward']) \n",
    "competition_data.loc[:,'total_reward_team_13'] = np.where(competition_data['p1']==1, \n",
    "                                                          competition_data['total_reward'],\n",
    "                                                          162-competition_data['total_reward']) "
   ]
  },
  {
   "cell_type": "code",
   "execution_count": 5,
   "metadata": {},
   "outputs": [
    {
     "data": {
      "text/plain": [
       "0    206\n",
       "1    194\n",
       "Name: p0, dtype: int64"
      ]
     },
     "execution_count": 5,
     "metadata": {},
     "output_type": "execute_result"
    }
   ],
   "source": [
    "# Check qu'autant de parties jouées en attaque qu'en défense\n",
    "competition_data['p0'].value_counts()"
   ]
  },
  {
   "cell_type": "code",
   "execution_count": 6,
   "metadata": {},
   "outputs": [],
   "source": [
    "attack_02 = competition_data[competition_data['p0']==1]['total_reward_team_02']\n",
    "defens_02 = competition_data[competition_data['p0']==0]['total_reward_team_02']\n",
    "attack_13 = competition_data[competition_data['p1']==1]['total_reward_team_13']\n",
    "defens_13 = competition_data[competition_data['p1']==0]['total_reward_team_13']"
   ]
  },
  {
   "cell_type": "code",
   "execution_count": 7,
   "metadata": {},
   "outputs": [
    {
     "data": {
      "text/plain": [
       "(array([ 6., 14., 23., 28., 27., 37., 28., 23., 12.,  8.]),\n",
       " array([  0.,  16.,  32.,  48.,  64.,  80.,  96., 112., 128., 144., 160.]),\n",
       " <a list of 10 Patch objects>)"
      ]
     },
     "execution_count": 7,
     "metadata": {},
     "output_type": "execute_result"
    },
    {
     "data": {
      "image/png": "[encoded data removed]",
      "text/plain": [
       "<Figure size 432x288 with 1 Axes>"
      ]
     },
     "metadata": {
      "needs_background": "light"
     },
     "output_type": "display_data"
    }
   ],
   "source": [
    "plt.hist(attack_02)\n",
    "plt.hist(defens_02)"
   ]
  },
  {
   "cell_type": "code",
   "execution_count": 8,
   "metadata": {},
   "outputs": [
    {
     "data": {
      "text/plain": [
       "(count    194.000000\n",
       " mean      79.814433\n",
       " std       36.767391\n",
       " min       12.000000\n",
       " 25%       49.750000\n",
       " 50%       79.500000\n",
       " 75%      106.000000\n",
       " max      162.000000\n",
       " Name: total_reward_team_02, dtype: float64,\n",
       " count    206.000000\n",
       " mean      79.932039\n",
       " std       36.215685\n",
       " min        0.000000\n",
       " 25%       54.000000\n",
       " 50%       81.500000\n",
       " 75%      107.000000\n",
       " max      160.000000\n",
       " Name: total_reward_team_02, dtype: float64)"
      ]
     },
     "execution_count": 8,
     "metadata": {},
     "output_type": "execute_result"
    }
   ],
   "source": [
    "attack_02.describe(), defens_02.describe()"
   ]
  },
  {
   "cell_type": "code",
   "execution_count": 9,
   "metadata": {},
   "outputs": [
    {
     "data": {
      "text/plain": [
       "0     97.0\n",
       "1     52.0\n",
       "3    114.0\n",
       "5     54.0\n",
       "8     95.0\n",
       "Name: total_reward_team_02, dtype: float64"
      ]
     },
     "execution_count": 9,
     "metadata": {},
     "output_type": "execute_result"
    }
   ],
   "source": [
    "attack_02.head()"
   ]
  },
  {
   "cell_type": "code",
   "execution_count": 10,
   "metadata": {},
   "outputs": [
    {
     "data": {
      "text/plain": [
       "2     26.0\n",
       "4     88.0\n",
       "6     54.0\n",
       "7     58.0\n",
       "10    51.0\n",
       "Name: total_reward_team_02, dtype: float64"
      ]
     },
     "execution_count": 10,
     "metadata": {},
     "output_type": "execute_result"
    }
   ],
   "source": [
    "defens_02.head()"
   ]
  },
  {
   "cell_type": "code",
   "execution_count": 11,
   "metadata": {
    "collapsed": true
   },
   "outputs": [],
   "source": [
    "def test_H0(x_A, x_B, risk1, bilateral=False):\n",
    "\n",
    "    # Calcul de t_AB : différence des moyennes normalisée\n",
    "    diff_mean = (np.mean(x_B) - np.mean(x_A))  # diff entre les moyennes\n",
    "\n",
    "    # Estimation de l'écart-type joint\n",
    "    std_pooled = np.sqrt((np.var(x_B)/len(x_B)) + (np.var(x_A)/len(x_A)))\n",
    "    stat = diff_mean/std_pooled  # différence normalisée\n",
    "\n",
    "    # Seuil correspondant au risk de première espèce défini\n",
    "    if bilateral:\n",
    "        t = scs.norm(0, 1).ppf(1 - risk1/2)\n",
    "        return np.abs(stat<t), t, stat\n",
    "    else:\n",
    "        t = scs.norm(0, 1).ppf(1 - risk1)\n",
    "        return (stat < t), t, stat\n",
    "    \n",
    "def power_test(x_A, x_B, mde, risk1, bilateral=False):\n",
    "    var_A = np.var(x_A)\n",
    "    var_B = np.var(x_B)\n",
    "    N_A = len(x_A)\n",
    "    N_B = len(x_B)\n",
    "    \n",
    "    \n",
    "    std_pooled = np.sqrt(var_A/N_A + var_B/N_B)\n",
    "    expectation = mde/std_pooled\n",
    "    t = test_H0(x_A, x_B, risk1, bilateral)[1]\n",
    "\n",
    "    return (1 - scs.norm(expectation, 1).cdf(t))"
   ]
  },
  {
   "cell_type": "code",
   "execution_count": 12,
   "metadata": {},
   "outputs": [
    {
     "ename": "NameError",
     "evalue": "name 'risk1' is not defined",
     "output_type": "error",
     "traceback": [
      "\u001b[0;31m---------------------------------------------------------------------------\u001b[0m",
      "\u001b[0;31mNameError\u001b[0m                                 Traceback (most recent call last)",
      "\u001b[0;32m<ipython-input-12-f0da7aa3d6f0>\u001b[0m in \u001b[0;36m<module>\u001b[0;34m\u001b[0m\n\u001b[1;32m      1\u001b[0m \u001b[0;31m# Attack\u001b[0m\u001b[0;34m\u001b[0m\u001b[0;34m\u001b[0m\u001b[0;34m\u001b[0m\u001b[0m\n\u001b[1;32m      2\u001b[0m \u001b[0;34m\u001b[0m\u001b[0m\n\u001b[0;32m----> 3\u001b[0;31m \u001b[0mprint\u001b[0m\u001b[0;34m(\u001b[0m\u001b[0;34m'test attacks: '\u001b[0m\u001b[0;34m,\u001b[0m \u001b[0mtest_H0\u001b[0m\u001b[0;34m(\u001b[0m\u001b[0mattack_02\u001b[0m\u001b[0;34m,\u001b[0m \u001b[0mattack_13\u001b[0m\u001b[0;34m,\u001b[0m \u001b[0mrisk1\u001b[0m\u001b[0;34m,\u001b[0m \u001b[0mbilateral\u001b[0m\u001b[0;34m=\u001b[0m\u001b[0;32mTrue\u001b[0m\u001b[0;34m)\u001b[0m\u001b[0;34m)\u001b[0m\u001b[0;34m\u001b[0m\u001b[0;34m\u001b[0m\u001b[0m\n\u001b[0m\u001b[1;32m      4\u001b[0m \u001b[0mprint\u001b[0m\u001b[0;34m(\u001b[0m\u001b[0;34m\"power attacks: \"\u001b[0m\u001b[0;34m,\u001b[0m \u001b[0mpower_test\u001b[0m\u001b[0;34m(\u001b[0m\u001b[0mattack_02\u001b[0m\u001b[0;34m,\u001b[0m \u001b[0mattack_13\u001b[0m\u001b[0;34m,\u001b[0m \u001b[0mmde\u001b[0m\u001b[0;34m,\u001b[0m \u001b[0mrisk1\u001b[0m\u001b[0;34m,\u001b[0m \u001b[0mbilateral\u001b[0m\u001b[0;34m=\u001b[0m\u001b[0;32mTrue\u001b[0m\u001b[0;34m)\u001b[0m\u001b[0;34m)\u001b[0m\u001b[0;34m\u001b[0m\u001b[0;34m\u001b[0m\u001b[0m\n\u001b[1;32m      5\u001b[0m \u001b[0mprint\u001b[0m\u001b[0;34m(\u001b[0m\u001b[0;34m'test defens: '\u001b[0m\u001b[0;34m,\u001b[0m \u001b[0mtest_H0\u001b[0m\u001b[0;34m(\u001b[0m\u001b[0mdefens_02\u001b[0m\u001b[0;34m,\u001b[0m \u001b[0mdefens_13\u001b[0m\u001b[0;34m,\u001b[0m \u001b[0mrisk1\u001b[0m\u001b[0;34m,\u001b[0m \u001b[0mbilateral\u001b[0m\u001b[0;34m=\u001b[0m\u001b[0;32mTrue\u001b[0m\u001b[0;34m)\u001b[0m\u001b[0;34m)\u001b[0m\u001b[0;34m\u001b[0m\u001b[0;34m\u001b[0m\u001b[0m\n",
      "\u001b[0;31mNameError\u001b[0m: name 'risk1' is not defined"
     ]
    }
   ],
   "source": [
    "# Attack\n",
    "\n",
    "print('test attacks: ', test_H0(attack_02, attack_13, risk1, bilateral=True))\n",
    "print(\"power attacks: \", power_test(attack_02, attack_13, mde, risk1, bilateral=True))\n",
    "print('test defens: ', test_H0(defens_02, defens_13, risk1, bilateral=True))\n",
    "print(\"power attacks: \", power_test(defens_02, defens_13, mde, risk1, bilateral=True))\n",
    "\n"
   ]
  },
  {
   "cell_type": "code",
   "execution_count": 50,
   "metadata": {},
   "outputs": [
    {
     "data": {
      "text/html": [
       "<div>\n",
       "<style scoped>\n",
       "    .dataframe tbody tr th:only-of-type {\n",
       "        vertical-align: middle;\n",
       "    }\n",
       "\n",
       "    .dataframe tbody tr th {\n",
       "        vertical-align: top;\n",
       "    }\n",
       "\n",
       "    .dataframe thead th {\n",
       "        text-align: right;\n",
       "    }\n",
       "</style>\n",
       "<table border=\"1\" class=\"dataframe\">\n",
       "  <thead>\n",
       "    <tr style=\"text-align: right;\">\n",
       "      <th></th>\n",
       "      <th>p0</th>\n",
       "      <th>p1</th>\n",
       "      <th>p2</th>\n",
       "      <th>p3</th>\n",
       "    </tr>\n",
       "  </thead>\n",
       "  <tbody>\n",
       "    <tr>\n",
       "      <th>0</th>\n",
       "      <td>0</td>\n",
       "      <td>1</td>\n",
       "      <td>0</td>\n",
       "      <td>1</td>\n",
       "    </tr>\n",
       "    <tr>\n",
       "      <th>1</th>\n",
       "      <td>1</td>\n",
       "      <td>0</td>\n",
       "      <td>1</td>\n",
       "      <td>0</td>\n",
       "    </tr>\n",
       "    <tr>\n",
       "      <th>2</th>\n",
       "      <td>0</td>\n",
       "      <td>1</td>\n",
       "      <td>0</td>\n",
       "      <td>1</td>\n",
       "    </tr>\n",
       "    <tr>\n",
       "      <th>3</th>\n",
       "      <td>0</td>\n",
       "      <td>1</td>\n",
       "      <td>0</td>\n",
       "      <td>1</td>\n",
       "    </tr>\n",
       "    <tr>\n",
       "      <th>4</th>\n",
       "      <td>0</td>\n",
       "      <td>1</td>\n",
       "      <td>0</td>\n",
       "      <td>1</td>\n",
       "    </tr>\n",
       "    <tr>\n",
       "      <th>...</th>\n",
       "      <td>...</td>\n",
       "      <td>...</td>\n",
       "      <td>...</td>\n",
       "      <td>...</td>\n",
       "    </tr>\n",
       "    <tr>\n",
       "      <th>395</th>\n",
       "      <td>1</td>\n",
       "      <td>0</td>\n",
       "      <td>1</td>\n",
       "      <td>0</td>\n",
       "    </tr>\n",
       "    <tr>\n",
       "      <th>396</th>\n",
       "      <td>1</td>\n",
       "      <td>0</td>\n",
       "      <td>1</td>\n",
       "      <td>0</td>\n",
       "    </tr>\n",
       "    <tr>\n",
       "      <th>397</th>\n",
       "      <td>0</td>\n",
       "      <td>1</td>\n",
       "      <td>0</td>\n",
       "      <td>1</td>\n",
       "    </tr>\n",
       "    <tr>\n",
       "      <th>398</th>\n",
       "      <td>0</td>\n",
       "      <td>1</td>\n",
       "      <td>0</td>\n",
       "      <td>1</td>\n",
       "    </tr>\n",
       "    <tr>\n",
       "      <th>399</th>\n",
       "      <td>1</td>\n",
       "      <td>0</td>\n",
       "      <td>1</td>\n",
       "      <td>0</td>\n",
       "    </tr>\n",
       "  </tbody>\n",
       "</table>\n",
       "<p>400 rows × 4 columns</p>\n",
       "</div>"
      ],
      "text/plain": [
       "     p0  p1  p2  p3\n",
       "0     0   1   0   1\n",
       "1     1   0   1   0\n",
       "2     0   1   0   1\n",
       "3     0   1   0   1\n",
       "4     0   1   0   1\n",
       "..   ..  ..  ..  ..\n",
       "395   1   0   1   0\n",
       "396   1   0   1   0\n",
       "397   0   1   0   1\n",
       "398   0   1   0   1\n",
       "399   1   0   1   0\n",
       "\n",
       "[400 rows x 4 columns]"
      ]
     },
     "execution_count": 50,
     "metadata": {},
     "output_type": "execute_result"
    }
   ],
   "source": [
    "attacker_df"
   ]
  },
  {
   "cell_type": "code",
   "execution_count": null,
   "metadata": {
    "collapsed": true
   },
   "outputs": [],
   "source": []
  }
 ],
 "metadata": {
  "kernelspec": {
   "display_name": "Python [conda env:gym-coinche]",
   "language": "python",
   "name": "conda-env-gym-coinche-py"
  },
  "language_info": {
   "codemirror_mode": {
    "name": "ipython",
    "version": 3
   },
   "file_extension": ".py",
   "mimetype": "text/x-python",
   "name": "python",
   "nbconvert_exporter": "python",
   "pygments_lexer": "ipython3",
   "version": "3.7.5"
  }
 },
 "nbformat": 4,
 "nbformat_minor": 4
}
