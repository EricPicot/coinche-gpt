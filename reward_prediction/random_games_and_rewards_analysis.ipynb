{
 "cells": [
  {
   "cell_type": "markdown",
   "metadata": {},
   "source": [
    "### Analysis of game and reward + prediction\n"
   ]
  },
  {
   "cell_type": "markdown",
   "metadata": {},
   "source": [
    "#### Import\n"
   ]
  },
  {
   "cell_type": "code",
   "execution_count": 1,
   "metadata": {
    "scrolled": true
   },
   "outputs": [
    {
     "name": "stderr",
     "output_type": "stream",
     "text": [
      "/anaconda/envs/gym-coinche/lib/python3.7/site-packages/tensorflow/python/framework/dtypes.py:516: FutureWarning: Passing (type, 1) or '1type' as a synonym of type is deprecated; in a future version of numpy, it will be understood as (type, (1,)) / '(1,)type'.\n",
      "  _np_qint8 = np.dtype([(\"qint8\", np.int8, 1)])\n",
      "/anaconda/envs/gym-coinche/lib/python3.7/site-packages/tensorflow/python/framework/dtypes.py:517: FutureWarning: Passing (type, 1) or '1type' as a synonym of type is deprecated; in a future version of numpy, it will be understood as (type, (1,)) / '(1,)type'.\n",
      "  _np_quint8 = np.dtype([(\"quint8\", np.uint8, 1)])\n",
      "/anaconda/envs/gym-coinche/lib/python3.7/site-packages/tensorflow/python/framework/dtypes.py:518: FutureWarning: Passing (type, 1) or '1type' as a synonym of type is deprecated; in a future version of numpy, it will be understood as (type, (1,)) / '(1,)type'.\n",
      "  _np_qint16 = np.dtype([(\"qint16\", np.int16, 1)])\n",
      "/anaconda/envs/gym-coinche/lib/python3.7/site-packages/tensorflow/python/framework/dtypes.py:519: FutureWarning: Passing (type, 1) or '1type' as a synonym of type is deprecated; in a future version of numpy, it will be understood as (type, (1,)) / '(1,)type'.\n",
      "  _np_quint16 = np.dtype([(\"quint16\", np.uint16, 1)])\n",
      "/anaconda/envs/gym-coinche/lib/python3.7/site-packages/tensorflow/python/framework/dtypes.py:520: FutureWarning: Passing (type, 1) or '1type' as a synonym of type is deprecated; in a future version of numpy, it will be understood as (type, (1,)) / '(1,)type'.\n",
      "  _np_qint32 = np.dtype([(\"qint32\", np.int32, 1)])\n",
      "/anaconda/envs/gym-coinche/lib/python3.7/site-packages/tensorflow/python/framework/dtypes.py:525: FutureWarning: Passing (type, 1) or '1type' as a synonym of type is deprecated; in a future version of numpy, it will be understood as (type, (1,)) / '(1,)type'.\n",
      "  np_resource = np.dtype([(\"resource\", np.ubyte, 1)])\n"
     ]
    },
    {
     "name": "stdout",
     "output_type": "stream",
     "text": [
      "['.ipynb_checkpoints', 'AB_testing.ipynb', 'data', 'policy_comparaison.ipynb', 'random_games_and_rewards_analysis.ipynb', 'README', 'reward_model.h5', 'train_reward_prediction_model.py']\n"
     ]
    },
    {
     "name": "stderr",
     "output_type": "stream",
     "text": [
      "/anaconda/envs/gym-coinche/lib/python3.7/site-packages/tensorboard/compat/tensorflow_stub/dtypes.py:541: FutureWarning: Passing (type, 1) or '1type' as a synonym of type is deprecated; in a future version of numpy, it will be understood as (type, (1,)) / '(1,)type'.\n",
      "  _np_qint8 = np.dtype([(\"qint8\", np.int8, 1)])\n",
      "/anaconda/envs/gym-coinche/lib/python3.7/site-packages/tensorboard/compat/tensorflow_stub/dtypes.py:542: FutureWarning: Passing (type, 1) or '1type' as a synonym of type is deprecated; in a future version of numpy, it will be understood as (type, (1,)) / '(1,)type'.\n",
      "  _np_quint8 = np.dtype([(\"quint8\", np.uint8, 1)])\n",
      "/anaconda/envs/gym-coinche/lib/python3.7/site-packages/tensorboard/compat/tensorflow_stub/dtypes.py:543: FutureWarning: Passing (type, 1) or '1type' as a synonym of type is deprecated; in a future version of numpy, it will be understood as (type, (1,)) / '(1,)type'.\n",
      "  _np_qint16 = np.dtype([(\"qint16\", np.int16, 1)])\n",
      "/anaconda/envs/gym-coinche/lib/python3.7/site-packages/tensorboard/compat/tensorflow_stub/dtypes.py:544: FutureWarning: Passing (type, 1) or '1type' as a synonym of type is deprecated; in a future version of numpy, it will be understood as (type, (1,)) / '(1,)type'.\n",
      "  _np_quint16 = np.dtype([(\"quint16\", np.uint16, 1)])\n",
      "/anaconda/envs/gym-coinche/lib/python3.7/site-packages/tensorboard/compat/tensorflow_stub/dtypes.py:545: FutureWarning: Passing (type, 1) or '1type' as a synonym of type is deprecated; in a future version of numpy, it will be understood as (type, (1,)) / '(1,)type'.\n",
      "  _np_qint32 = np.dtype([(\"qint32\", np.int32, 1)])\n",
      "/anaconda/envs/gym-coinche/lib/python3.7/site-packages/tensorboard/compat/tensorflow_stub/dtypes.py:550: FutureWarning: Passing (type, 1) or '1type' as a synonym of type is deprecated; in a future version of numpy, it will be understood as (type, (1,)) / '(1,)type'.\n",
      "  np_resource = np.dtype([(\"resource\", np.ubyte, 1)])\n"
     ]
    }
   ],
   "source": [
    "import matplotlib.pyplot as plt\n",
    "import numpy as np\n",
    "import pandas as pd\n",
    "import statsmodels.api as sm\n",
    "import statsmodels.formula.api as smf\n",
    "from IPython.display import HTML, display\n",
    "\n",
    "import re\n",
    "from sklearn.metrics import mean_squared_error\n",
    "\n",
    "import tensorflow as tf\n",
    "from tensorflow.keras import datasets, layers, models\n",
    "from sklearn.model_selection import train_test_split as tts \n",
    "from tensorflow.keras.losses import mse, mean_absolute_error\n",
    "from tensorflow.keras.optimizers import RMSprop, Adadelta\n",
    "\n",
    "import sys\n",
    "sys.path.append(\"../\")\n",
    "\n",
    "from generate_rounds_with_policies import policy_competition"
   ]
  },
  {
   "cell_type": "code",
   "execution_count": 192,
   "metadata": {
    "collapsed": true
   },
   "outputs": [],
   "source": [
    "def build_formula(target, cols):\n",
    "    \n",
    "    f = target + \" ~ \"\n",
    "    f += \" + \".join(map(lambda x: \"C(\" + x +\")\" , cols))\n",
    "    \n",
    "    return f\n",
    "\n",
    "\n",
    "def compute_pseudo_r_squared(mod):\n",
    "    return 1 - mod.deviance/mod.null_deviance\n",
    "\n",
    "\n",
    "def catch_card(xx):\n",
    "    try:\n",
    "        card = re.split(r'\\)',re.split(r'\\(',xx)[1])[0].split('_')\n",
    "    except:\n",
    "        card = [\"intercept\", \"intercept\", \"intercept\"]\n",
    "        \n",
    "    return card"
   ]
  },
  {
   "cell_type": "code",
   "execution_count": 193,
   "metadata": {
    "collapsed": true
   },
   "outputs": [],
   "source": [
    "def get_results(model, color = 'rgb(158, 202, 225)'):\n",
    "    \n",
    "    results = model.conf_int()\n",
    "    results.columns = [\"coef_inf\",\"coef_sup\"]\n",
    "    results[\"coef \"]= model.params\n",
    "    results[\"p_value\"] = model.pvalues\n",
    "    results[\"color\"] = color\n",
    "    results[\"card\"] = results.index.map(catch_card)\n",
    "    results[[\"is_atout\", \"value\", \"player\"]] = results[\"card\"].apply(pd.Series)\n",
    "    \n",
    "    results[\"is_atout\"] = results[\"is_atout\"]==\"atout\"\n",
    "    del results[\"card\"]\n",
    "    return results\n",
    "\n",
    "def get_style_for_results(results):\n",
    "    \"\"\"\n",
    "    get style to highlight the significant values of a model's results \n",
    "    \n",
    "    Args :\n",
    "        df (dataframe) : model'results\n",
    "            \n",
    "    Returns : (df) : return a df with the styles to apply\n",
    "    \"\"\"\n",
    "    c1 = 'background-color: #80E37C'\n",
    "    c2 = '' \n",
    "    \n",
    "    #condition to be green\n",
    "    mask = results['p_value'] < 0.05\n",
    "    \n",
    "    #DataFrame with same index and columns names as original filled red color\n",
    "    df1 =  pd.DataFrame(c2, index=results.index, columns=results.columns)\n",
    "    \n",
    "    #modify values of df1 column by boolean mask\n",
    "    df1.loc[mask, [\"coef_inf\",\"coef_sup\"]] = c1\n",
    "    return df1\n",
    "\n",
    "\n",
    "def get_results_formated(model, caption = \"\", color= \"rgb(158,202,225)\"):\n",
    "    \"\"\"\n",
    "    highlights the significant values of a model's results \n",
    "    \n",
    "    Args :\n",
    "        model (model) : fitted model\n",
    "        caption (str) : text describing the results (optional)\n",
    "            \n",
    "    Returns : (df with style) : return a stylized df\n",
    "    \"\"\"\n",
    "    results = get_results(model, color = color)\n",
    "    \n",
    "    return results.style.apply(get_style_for_results, axis=None)\\\n",
    "           .set_caption(caption)"
   ]
  },
  {
   "cell_type": "markdown",
   "metadata": {},
   "source": [
    "### Load data"
   ]
  },
  {
   "cell_type": "code",
   "execution_count": 2,
   "metadata": {},
   "outputs": [
    {
     "name": "stdout",
     "output_type": "stream",
     "text": [
      "Contrat model passed:  None\n",
      "Contrat model passed:  None\n",
      "0\n",
      "500\n",
      "1000\n",
      "1500\n",
      "2000\n",
      "2500\n",
      "3000\n",
      "3500\n",
      "4000\n",
      "4500\n",
      "5000\n",
      "Done\n"
     ]
    }
   ],
   "source": [
    "NUM_EPISODES = 5001\n",
    "policy_algo = [\"Random\",\n",
    "               \"Random\",\n",
    "               \"Random\",\n",
    "               \"Random\"]\n",
    "\n",
    "contrat_model_path = None\n",
    "\n",
    "\n",
    "data, attack = policy_competition(policies=policy_algo, \n",
    "                                                env_name = \"coinche-v3\",\n",
    "                                                contrat_model_path=contrat_model_path, \n",
    "                                                NUM_EPISODES=NUM_EPISODES)"
   ]
  },
  {
   "cell_type": "code",
   "execution_count": 204,
   "metadata": {},
   "outputs": [
    {
     "data": {
      "text/html": [
       "<div>\n",
       "<style scoped>\n",
       "    .dataframe tbody tr th:only-of-type {\n",
       "        vertical-align: middle;\n",
       "    }\n",
       "\n",
       "    .dataframe tbody tr th {\n",
       "        vertical-align: top;\n",
       "    }\n",
       "\n",
       "    .dataframe thead th {\n",
       "        text-align: right;\n",
       "    }\n",
       "</style>\n",
       "<table border=\"1\" class=\"dataframe\">\n",
       "  <thead>\n",
       "    <tr style=\"text-align: right;\">\n",
       "      <th></th>\n",
       "      <th>atout_7_p1</th>\n",
       "      <th>atout_8_p1</th>\n",
       "      <th>atout_9_p1</th>\n",
       "      <th>atout_10_p1</th>\n",
       "      <th>atout_jack_p1</th>\n",
       "      <th>atout_queen_p1</th>\n",
       "      <th>atout_king_p1</th>\n",
       "      <th>atout_as_p1</th>\n",
       "      <th>na1_7_p1</th>\n",
       "      <th>na1_8_p1</th>\n",
       "      <th>...</th>\n",
       "      <th>na2_as_p2</th>\n",
       "      <th>na3_7_p2</th>\n",
       "      <th>na3_8_p2</th>\n",
       "      <th>na3_9_p2</th>\n",
       "      <th>na3_10_p2</th>\n",
       "      <th>na3_jack_p2</th>\n",
       "      <th>na3_queen_p2</th>\n",
       "      <th>na3_king_p2</th>\n",
       "      <th>na3_as_p2</th>\n",
       "      <th>total_reward</th>\n",
       "    </tr>\n",
       "  </thead>\n",
       "  <tbody>\n",
       "    <tr>\n",
       "      <th>0</th>\n",
       "      <td>0.0</td>\n",
       "      <td>0.0</td>\n",
       "      <td>0.0</td>\n",
       "      <td>0.0</td>\n",
       "      <td>1.0</td>\n",
       "      <td>1.0</td>\n",
       "      <td>1.0</td>\n",
       "      <td>0.0</td>\n",
       "      <td>0.0</td>\n",
       "      <td>0.0</td>\n",
       "      <td>...</td>\n",
       "      <td>0.0</td>\n",
       "      <td>0.0</td>\n",
       "      <td>0.0</td>\n",
       "      <td>0.0</td>\n",
       "      <td>0.0</td>\n",
       "      <td>0.0</td>\n",
       "      <td>0.0</td>\n",
       "      <td>1.0</td>\n",
       "      <td>1.0</td>\n",
       "      <td>111.0</td>\n",
       "    </tr>\n",
       "    <tr>\n",
       "      <th>1</th>\n",
       "      <td>0.0</td>\n",
       "      <td>0.0</td>\n",
       "      <td>0.0</td>\n",
       "      <td>0.0</td>\n",
       "      <td>0.0</td>\n",
       "      <td>0.0</td>\n",
       "      <td>1.0</td>\n",
       "      <td>0.0</td>\n",
       "      <td>0.0</td>\n",
       "      <td>1.0</td>\n",
       "      <td>...</td>\n",
       "      <td>0.0</td>\n",
       "      <td>1.0</td>\n",
       "      <td>0.0</td>\n",
       "      <td>1.0</td>\n",
       "      <td>0.0</td>\n",
       "      <td>0.0</td>\n",
       "      <td>0.0</td>\n",
       "      <td>0.0</td>\n",
       "      <td>1.0</td>\n",
       "      <td>32.0</td>\n",
       "    </tr>\n",
       "    <tr>\n",
       "      <th>2</th>\n",
       "      <td>0.0</td>\n",
       "      <td>1.0</td>\n",
       "      <td>0.0</td>\n",
       "      <td>1.0</td>\n",
       "      <td>0.0</td>\n",
       "      <td>0.0</td>\n",
       "      <td>1.0</td>\n",
       "      <td>0.0</td>\n",
       "      <td>0.0</td>\n",
       "      <td>0.0</td>\n",
       "      <td>...</td>\n",
       "      <td>1.0</td>\n",
       "      <td>0.0</td>\n",
       "      <td>0.0</td>\n",
       "      <td>1.0</td>\n",
       "      <td>0.0</td>\n",
       "      <td>1.0</td>\n",
       "      <td>0.0</td>\n",
       "      <td>0.0</td>\n",
       "      <td>0.0</td>\n",
       "      <td>68.0</td>\n",
       "    </tr>\n",
       "    <tr>\n",
       "      <th>3</th>\n",
       "      <td>1.0</td>\n",
       "      <td>0.0</td>\n",
       "      <td>0.0</td>\n",
       "      <td>0.0</td>\n",
       "      <td>1.0</td>\n",
       "      <td>0.0</td>\n",
       "      <td>0.0</td>\n",
       "      <td>0.0</td>\n",
       "      <td>0.0</td>\n",
       "      <td>0.0</td>\n",
       "      <td>...</td>\n",
       "      <td>0.0</td>\n",
       "      <td>1.0</td>\n",
       "      <td>0.0</td>\n",
       "      <td>1.0</td>\n",
       "      <td>0.0</td>\n",
       "      <td>1.0</td>\n",
       "      <td>0.0</td>\n",
       "      <td>0.0</td>\n",
       "      <td>1.0</td>\n",
       "      <td>101.0</td>\n",
       "    </tr>\n",
       "    <tr>\n",
       "      <th>4</th>\n",
       "      <td>0.0</td>\n",
       "      <td>1.0</td>\n",
       "      <td>1.0</td>\n",
       "      <td>0.0</td>\n",
       "      <td>0.0</td>\n",
       "      <td>0.0</td>\n",
       "      <td>1.0</td>\n",
       "      <td>0.0</td>\n",
       "      <td>1.0</td>\n",
       "      <td>0.0</td>\n",
       "      <td>...</td>\n",
       "      <td>1.0</td>\n",
       "      <td>0.0</td>\n",
       "      <td>0.0</td>\n",
       "      <td>0.0</td>\n",
       "      <td>0.0</td>\n",
       "      <td>1.0</td>\n",
       "      <td>1.0</td>\n",
       "      <td>0.0</td>\n",
       "      <td>0.0</td>\n",
       "      <td>64.0</td>\n",
       "    </tr>\n",
       "  </tbody>\n",
       "</table>\n",
       "<p>5 rows × 65 columns</p>\n",
       "</div>"
      ],
      "text/plain": [
       "   atout_7_p1  atout_8_p1  atout_9_p1  atout_10_p1  atout_jack_p1  \\\n",
       "0         0.0         0.0         0.0          0.0            1.0   \n",
       "1         0.0         0.0         0.0          0.0            0.0   \n",
       "2         0.0         1.0         0.0          1.0            0.0   \n",
       "3         1.0         0.0         0.0          0.0            1.0   \n",
       "4         0.0         1.0         1.0          0.0            0.0   \n",
       "\n",
       "   atout_queen_p1  atout_king_p1  atout_as_p1  na1_7_p1  na1_8_p1  ...  \\\n",
       "0             1.0            1.0          0.0       0.0       0.0  ...   \n",
       "1             0.0            1.0          0.0       0.0       1.0  ...   \n",
       "2             0.0            1.0          0.0       0.0       0.0  ...   \n",
       "3             0.0            0.0          0.0       0.0       0.0  ...   \n",
       "4             0.0            1.0          0.0       1.0       0.0  ...   \n",
       "\n",
       "   na2_as_p2  na3_7_p2  na3_8_p2  na3_9_p2  na3_10_p2  na3_jack_p2  \\\n",
       "0        0.0       0.0       0.0       0.0        0.0          0.0   \n",
       "1        0.0       1.0       0.0       1.0        0.0          0.0   \n",
       "2        1.0       0.0       0.0       1.0        0.0          1.0   \n",
       "3        0.0       1.0       0.0       1.0        0.0          1.0   \n",
       "4        1.0       0.0       0.0       0.0        0.0          1.0   \n",
       "\n",
       "   na3_queen_p2  na3_king_p2  na3_as_p2  total_reward  \n",
       "0           0.0          1.0        1.0         111.0  \n",
       "1           0.0          0.0        1.0          32.0  \n",
       "2           0.0          0.0        0.0          68.0  \n",
       "3           0.0          0.0        1.0         101.0  \n",
       "4           1.0          0.0        0.0          64.0  \n",
       "\n",
       "[5 rows x 65 columns]"
      ]
     },
     "execution_count": 204,
     "metadata": {},
     "output_type": "execute_result"
    }
   ],
   "source": [
    "data.head()"
   ]
  },
  {
   "cell_type": "markdown",
   "metadata": {},
   "source": [
    "**Let's check that the data is centered in 81, and in the intervale [0, 162]**"
   ]
  },
  {
   "cell_type": "code",
   "execution_count": 205,
   "metadata": {
    "scrolled": false
   },
   "outputs": [
    {
     "data": {
      "image/png": "[encoded data removed]",
      "text/plain": [
       "<Figure size 432x288 with 1 Axes>"
      ]
     },
     "metadata": {
      "needs_background": "light"
     },
     "output_type": "display_data"
    },
    {
     "data": {
      "text/plain": [
       "count    100000.000000\n",
       "mean         81.170100\n",
       "std          35.247125\n",
       "min           0.000000\n",
       "25%          55.000000\n",
       "50%          81.000000\n",
       "75%         107.000000\n",
       "max         162.000000\n",
       "Name: total_reward, dtype: float64"
      ]
     },
     "execution_count": 205,
     "metadata": {},
     "output_type": "execute_result"
    }
   ],
   "source": [
    "plt.hist(data[\"total_reward\"], bins=np.arange(10, 170, 5), label=\"3 random + 1 AI\")\n",
    "plt.title(\" Impact of sampling on random total reward\")\n",
    "plt.show()\n",
    "\n",
    "data[\"total_reward\"].describe()"
   ]
  },
  {
   "cell_type": "markdown",
   "metadata": {},
   "source": [
    "# Build formula"
   ]
  },
  {
   "cell_type": "markdown",
   "metadata": {},
   "source": [
    "**We'll start by training a linear model, to check if card have a value that is linked to its rank and its suit:**\n",
    "\n",
    "We suppose that all the cards are independants"
   ]
  },
  {
   "cell_type": "code",
   "execution_count": 206,
   "metadata": {},
   "outputs": [
    {
     "data": {
      "text/plain": [
       "'total_reward ~ C(atout_7_p1) + C(atout_8_p1) + C(atout_9_p1) + C(atout_10_p1) + C(atout_jack_p1) + C(atout_queen_p1) + C(atout_king_p1) + C(atout_as_p1) + C(na1_7_p1) + C(na1_8_p1) + C(na1_9_p1) + C(na1_10_p1) + C(na1_jack_p1) + C(na1_queen_p1) + C(na1_king_p1) + C(na1_as_p1) + C(na2_7_p1) + C(na2_8_p1) + C(na2_9_p1) + C(na2_10_p1) + C(na2_jack_p1) + C(na2_queen_p1) + C(na2_king_p1) + C(na2_as_p1) + C(na3_7_p1) + C(na3_8_p1) + C(na3_9_p1) + C(na3_10_p1) + C(na3_jack_p1) + C(na3_queen_p1) + C(na3_king_p1) + C(na3_as_p1) + C(atout_7_p2) + C(atout_8_p2) + C(atout_9_p2) + C(atout_10_p2) + C(atout_jack_p2) + C(atout_queen_p2) + C(atout_king_p2) + C(atout_as_p2) + C(na1_7_p2) + C(na1_8_p2) + C(na1_9_p2) + C(na1_10_p2) + C(na1_jack_p2) + C(na1_queen_p2) + C(na1_king_p2) + C(na1_as_p2) + C(na2_7_p2) + C(na2_8_p2) + C(na2_9_p2) + C(na2_10_p2) + C(na2_jack_p2) + C(na2_queen_p2) + C(na2_king_p2) + C(na2_as_p2) + C(na3_7_p2) + C(na3_8_p2) + C(na3_9_p2) + C(na3_10_p2) + C(na3_jack_p2) + C(na3_queen_p2) + C(na3_king_p2) + C(na3_as_p2)'"
      ]
     },
     "execution_count": 206,
     "metadata": {},
     "output_type": "execute_result"
    }
   ],
   "source": [
    "formula = build_formula(\"total_reward\", cols = np.concatenate([data.columns[:-1]]).tolist())\n",
    "formula"
   ]
  },
  {
   "cell_type": "markdown",
   "metadata": {},
   "source": [
    "## Create linear model and get first results"
   ]
  },
  {
   "cell_type": "code",
   "execution_count": 217,
   "metadata": {
    "scrolled": true
   },
   "outputs": [
    {
     "name": "stdout",
     "output_type": "stream",
     "text": [
      "pseudo_R2:  0.5251886533555468\n"
     ]
    }
   ],
   "source": [
    "mod = smf.glm(formula=formula, data=data, family=sm.families.Gaussian()).fit()\n",
    "print(\"pseudo_R2: \", compute_pseudo_r_squared(mod))"
   ]
  },
  {
   "cell_type": "code",
   "execution_count": 218,
   "metadata": {
    "collapsed": true,
    "scrolled": true
   },
   "outputs": [],
   "source": [
    "formated_results = get_results_formated(mod)"
   ]
  },
  {
   "cell_type": "markdown",
   "metadata": {},
   "source": [
    "As game and playing are random and as non atout suits are playing a symetrical role, we can average the coef value directly"
   ]
  },
  {
   "cell_type": "code",
   "execution_count": 219,
   "metadata": {
    "collapsed": true
   },
   "outputs": [],
   "source": [
    "average_coef = formated_results.data.groupby([\"is_atout\", \"value\"]).agg({\"p_value\": \"max\",\n",
    "                                                                         \"coef_inf\":\"mean\",\n",
    "                                                                         \"coef_sup\":\"mean\"})"
   ]
  },
  {
   "cell_type": "code",
   "execution_count": 220,
   "metadata": {},
   "outputs": [
    {
     "data": {
      "text/html": [
       "<style  type=\"text/css\" >\n",
       "    #T_f6af230c_904e_11ea_ab50_086d41d2c472row0_col1 {\n",
       "            background-color:  #80E37C;\n",
       "        }    #T_f6af230c_904e_11ea_ab50_086d41d2c472row0_col2 {\n",
       "            background-color:  #80E37C;\n",
       "        }    #T_f6af230c_904e_11ea_ab50_086d41d2c472row1_col1 {\n",
       "            background-color:  #80E37C;\n",
       "        }    #T_f6af230c_904e_11ea_ab50_086d41d2c472row1_col2 {\n",
       "            background-color:  #80E37C;\n",
       "        }    #T_f6af230c_904e_11ea_ab50_086d41d2c472row2_col1 {\n",
       "            background-color:  #80E37C;\n",
       "        }    #T_f6af230c_904e_11ea_ab50_086d41d2c472row2_col2 {\n",
       "            background-color:  #80E37C;\n",
       "        }    #T_f6af230c_904e_11ea_ab50_086d41d2c472row3_col1 {\n",
       "            background-color:  #80E37C;\n",
       "        }    #T_f6af230c_904e_11ea_ab50_086d41d2c472row3_col2 {\n",
       "            background-color:  #80E37C;\n",
       "        }    #T_f6af230c_904e_11ea_ab50_086d41d2c472row4_col1 {\n",
       "            background-color:  #80E37C;\n",
       "        }    #T_f6af230c_904e_11ea_ab50_086d41d2c472row4_col2 {\n",
       "            background-color:  #80E37C;\n",
       "        }    #T_f6af230c_904e_11ea_ab50_086d41d2c472row5_col1 {\n",
       "            background-color:  #80E37C;\n",
       "        }    #T_f6af230c_904e_11ea_ab50_086d41d2c472row5_col2 {\n",
       "            background-color:  #80E37C;\n",
       "        }    #T_f6af230c_904e_11ea_ab50_086d41d2c472row6_col1 {\n",
       "            background-color:  #80E37C;\n",
       "        }    #T_f6af230c_904e_11ea_ab50_086d41d2c472row6_col2 {\n",
       "            background-color:  #80E37C;\n",
       "        }    #T_f6af230c_904e_11ea_ab50_086d41d2c472row8_col1 {\n",
       "            background-color:  #80E37C;\n",
       "        }    #T_f6af230c_904e_11ea_ab50_086d41d2c472row8_col2 {\n",
       "            background-color:  #80E37C;\n",
       "        }    #T_f6af230c_904e_11ea_ab50_086d41d2c472row9_col1 {\n",
       "            background-color:  #80E37C;\n",
       "        }    #T_f6af230c_904e_11ea_ab50_086d41d2c472row9_col2 {\n",
       "            background-color:  #80E37C;\n",
       "        }    #T_f6af230c_904e_11ea_ab50_086d41d2c472row10_col1 {\n",
       "            background-color:  #80E37C;\n",
       "        }    #T_f6af230c_904e_11ea_ab50_086d41d2c472row10_col2 {\n",
       "            background-color:  #80E37C;\n",
       "        }    #T_f6af230c_904e_11ea_ab50_086d41d2c472row11_col1 {\n",
       "            background-color:  #80E37C;\n",
       "        }    #T_f6af230c_904e_11ea_ab50_086d41d2c472row11_col2 {\n",
       "            background-color:  #80E37C;\n",
       "        }    #T_f6af230c_904e_11ea_ab50_086d41d2c472row12_col1 {\n",
       "            background-color:  #80E37C;\n",
       "        }    #T_f6af230c_904e_11ea_ab50_086d41d2c472row12_col2 {\n",
       "            background-color:  #80E37C;\n",
       "        }    #T_f6af230c_904e_11ea_ab50_086d41d2c472row13_col1 {\n",
       "            background-color:  #80E37C;\n",
       "        }    #T_f6af230c_904e_11ea_ab50_086d41d2c472row13_col2 {\n",
       "            background-color:  #80E37C;\n",
       "        }    #T_f6af230c_904e_11ea_ab50_086d41d2c472row14_col1 {\n",
       "            background-color:  #80E37C;\n",
       "        }    #T_f6af230c_904e_11ea_ab50_086d41d2c472row14_col2 {\n",
       "            background-color:  #80E37C;\n",
       "        }    #T_f6af230c_904e_11ea_ab50_086d41d2c472row15_col1 {\n",
       "            background-color:  #80E37C;\n",
       "        }    #T_f6af230c_904e_11ea_ab50_086d41d2c472row15_col2 {\n",
       "            background-color:  #80E37C;\n",
       "        }    #T_f6af230c_904e_11ea_ab50_086d41d2c472row16_col1 {\n",
       "            background-color:  #80E37C;\n",
       "        }    #T_f6af230c_904e_11ea_ab50_086d41d2c472row16_col2 {\n",
       "            background-color:  #80E37C;\n",
       "        }</style><table id=\"T_f6af230c_904e_11ea_ab50_086d41d2c472\" ><thead>    <tr>        <th class=\"blank\" ></th>        <th class=\"blank level0\" ></th>        <th class=\"col_heading level0 col0\" >p_value</th>        <th class=\"col_heading level0 col1\" >coef_inf</th>        <th class=\"col_heading level0 col2\" >coef_sup</th>    </tr>    <tr>        <th class=\"index_name level0\" >is_atout</th>        <th class=\"index_name level1\" >value</th>        <th class=\"blank\" ></th>        <th class=\"blank\" ></th>        <th class=\"blank\" ></th>    </tr></thead><tbody>\n",
       "                <tr>\n",
       "                        <th id=\"T_f6af230c_904e_11ea_ab50_086d41d2c472level0_row0\" class=\"row_heading level0 row0\" rowspan=9>False</th>\n",
       "                        <th id=\"T_f6af230c_904e_11ea_ab50_086d41d2c472level1_row0\" class=\"row_heading level1 row0\" >10</th>\n",
       "                        <td id=\"T_f6af230c_904e_11ea_ab50_086d41d2c472row0_col0\" class=\"data row0 col0\" >0.000000</td>\n",
       "                        <td id=\"T_f6af230c_904e_11ea_ab50_086d41d2c472row0_col1\" class=\"data row0 col1\" >2.841919</td>\n",
       "                        <td id=\"T_f6af230c_904e_11ea_ab50_086d41d2c472row0_col2\" class=\"data row0 col2\" >3.560299</td>\n",
       "            </tr>\n",
       "            <tr>\n",
       "                                <th id=\"T_f6af230c_904e_11ea_ab50_086d41d2c472level1_row1\" class=\"row_heading level1 row1\" >7</th>\n",
       "                        <td id=\"T_f6af230c_904e_11ea_ab50_086d41d2c472row1_col0\" class=\"data row1 col0\" >0.000000</td>\n",
       "                        <td id=\"T_f6af230c_904e_11ea_ab50_086d41d2c472row1_col1\" class=\"data row1 col1\" >-3.053451</td>\n",
       "                        <td id=\"T_f6af230c_904e_11ea_ab50_086d41d2c472row1_col2\" class=\"data row1 col2\" >-2.335227</td>\n",
       "            </tr>\n",
       "            <tr>\n",
       "                                <th id=\"T_f6af230c_904e_11ea_ab50_086d41d2c472level1_row2\" class=\"row_heading level1 row2\" >8</th>\n",
       "                        <td id=\"T_f6af230c_904e_11ea_ab50_086d41d2c472row2_col0\" class=\"data row2 col0\" >0.000000</td>\n",
       "                        <td id=\"T_f6af230c_904e_11ea_ab50_086d41d2c472row2_col1\" class=\"data row2 col1\" >-2.930865</td>\n",
       "                        <td id=\"T_f6af230c_904e_11ea_ab50_086d41d2c472row2_col2\" class=\"data row2 col2\" >-2.213019</td>\n",
       "            </tr>\n",
       "            <tr>\n",
       "                                <th id=\"T_f6af230c_904e_11ea_ab50_086d41d2c472level1_row3\" class=\"row_heading level1 row3\" >9</th>\n",
       "                        <td id=\"T_f6af230c_904e_11ea_ab50_086d41d2c472row3_col0\" class=\"data row3 col0\" >0.000000</td>\n",
       "                        <td id=\"T_f6af230c_904e_11ea_ab50_086d41d2c472row3_col1\" class=\"data row3 col1\" >-2.753075</td>\n",
       "                        <td id=\"T_f6af230c_904e_11ea_ab50_086d41d2c472row3_col2\" class=\"data row3 col2\" >-2.034505</td>\n",
       "            </tr>\n",
       "            <tr>\n",
       "                                <th id=\"T_f6af230c_904e_11ea_ab50_086d41d2c472level1_row4\" class=\"row_heading level1 row4\" >as</th>\n",
       "                        <td id=\"T_f6af230c_904e_11ea_ab50_086d41d2c472row4_col0\" class=\"data row4 col0\" >0.000000</td>\n",
       "                        <td id=\"T_f6af230c_904e_11ea_ab50_086d41d2c472row4_col1\" class=\"data row4 col1\" >8.494861</td>\n",
       "                        <td id=\"T_f6af230c_904e_11ea_ab50_086d41d2c472row4_col2\" class=\"data row4 col2\" >9.213382</td>\n",
       "            </tr>\n",
       "            <tr>\n",
       "                                <th id=\"T_f6af230c_904e_11ea_ab50_086d41d2c472level1_row5\" class=\"row_heading level1 row5\" >intercept</th>\n",
       "                        <td id=\"T_f6af230c_904e_11ea_ab50_086d41d2c472row5_col0\" class=\"data row5 col0\" >0.000000</td>\n",
       "                        <td id=\"T_f6af230c_904e_11ea_ab50_086d41d2c472row5_col1\" class=\"data row5 col1\" >16.154304</td>\n",
       "                        <td id=\"T_f6af230c_904e_11ea_ab50_086d41d2c472row5_col2\" class=\"data row5 col2\" >16.214556</td>\n",
       "            </tr>\n",
       "            <tr>\n",
       "                                <th id=\"T_f6af230c_904e_11ea_ab50_086d41d2c472level1_row6\" class=\"row_heading level1 row6\" >jack</th>\n",
       "                        <td id=\"T_f6af230c_904e_11ea_ab50_086d41d2c472row6_col0\" class=\"data row6 col0\" >0.000000</td>\n",
       "                        <td id=\"T_f6af230c_904e_11ea_ab50_086d41d2c472row6_col1\" class=\"data row6 col1\" >-2.397352</td>\n",
       "                        <td id=\"T_f6af230c_904e_11ea_ab50_086d41d2c472row6_col2\" class=\"data row6 col2\" >-1.679158</td>\n",
       "            </tr>\n",
       "            <tr>\n",
       "                                <th id=\"T_f6af230c_904e_11ea_ab50_086d41d2c472level1_row7\" class=\"row_heading level1 row7\" >king</th>\n",
       "                        <td id=\"T_f6af230c_904e_11ea_ab50_086d41d2c472row7_col0\" class=\"data row7 col0\" >0.962445</td>\n",
       "                        <td id=\"T_f6af230c_904e_11ea_ab50_086d41d2c472row7_col1\" class=\"data row7 col1\" >-0.322636</td>\n",
       "                        <td id=\"T_f6af230c_904e_11ea_ab50_086d41d2c472row7_col2\" class=\"data row7 col2\" >0.395230</td>\n",
       "            </tr>\n",
       "            <tr>\n",
       "                                <th id=\"T_f6af230c_904e_11ea_ab50_086d41d2c472level1_row8\" class=\"row_heading level1 row8\" >queen</th>\n",
       "                        <td id=\"T_f6af230c_904e_11ea_ab50_086d41d2c472row8_col0\" class=\"data row8 col0\" >0.000000</td>\n",
       "                        <td id=\"T_f6af230c_904e_11ea_ab50_086d41d2c472row8_col1\" class=\"data row8 col1\" >-1.650219</td>\n",
       "                        <td id=\"T_f6af230c_904e_11ea_ab50_086d41d2c472row8_col2\" class=\"data row8 col2\" >-0.931617</td>\n",
       "            </tr>\n",
       "            <tr>\n",
       "                        <th id=\"T_f6af230c_904e_11ea_ab50_086d41d2c472level0_row9\" class=\"row_heading level0 row9\" rowspan=8>True</th>\n",
       "                        <th id=\"T_f6af230c_904e_11ea_ab50_086d41d2c472level1_row9\" class=\"row_heading level1 row9\" >10</th>\n",
       "                        <td id=\"T_f6af230c_904e_11ea_ab50_086d41d2c472row9_col0\" class=\"data row9 col0\" >0.000000</td>\n",
       "                        <td id=\"T_f6af230c_904e_11ea_ab50_086d41d2c472row9_col1\" class=\"data row9 col1\" >13.584781</td>\n",
       "                        <td id=\"T_f6af230c_904e_11ea_ab50_086d41d2c472row9_col2\" class=\"data row9 col2\" >14.302791</td>\n",
       "            </tr>\n",
       "            <tr>\n",
       "                                <th id=\"T_f6af230c_904e_11ea_ab50_086d41d2c472level1_row10\" class=\"row_heading level1 row10\" >7</th>\n",
       "                        <td id=\"T_f6af230c_904e_11ea_ab50_086d41d2c472row10_col0\" class=\"data row10 col0\" >0.000000</td>\n",
       "                        <td id=\"T_f6af230c_904e_11ea_ab50_086d41d2c472row10_col1\" class=\"data row10 col1\" >5.574641</td>\n",
       "                        <td id=\"T_f6af230c_904e_11ea_ab50_086d41d2c472row10_col2\" class=\"data row10 col2\" >6.292188</td>\n",
       "            </tr>\n",
       "            <tr>\n",
       "                                <th id=\"T_f6af230c_904e_11ea_ab50_086d41d2c472level1_row11\" class=\"row_heading level1 row11\" >8</th>\n",
       "                        <td id=\"T_f6af230c_904e_11ea_ab50_086d41d2c472row11_col0\" class=\"data row11 col0\" >0.000000</td>\n",
       "                        <td id=\"T_f6af230c_904e_11ea_ab50_086d41d2c472row11_col1\" class=\"data row11 col1\" >6.657521</td>\n",
       "                        <td id=\"T_f6af230c_904e_11ea_ab50_086d41d2c472row11_col2\" class=\"data row11 col2\" >7.375423</td>\n",
       "            </tr>\n",
       "            <tr>\n",
       "                                <th id=\"T_f6af230c_904e_11ea_ab50_086d41d2c472level1_row12\" class=\"row_heading level1 row12\" >9</th>\n",
       "                        <td id=\"T_f6af230c_904e_11ea_ab50_086d41d2c472row12_col0\" class=\"data row12 col0\" >0.000000</td>\n",
       "                        <td id=\"T_f6af230c_904e_11ea_ab50_086d41d2c472row12_col1\" class=\"data row12 col1\" >21.470669</td>\n",
       "                        <td id=\"T_f6af230c_904e_11ea_ab50_086d41d2c472row12_col2\" class=\"data row12 col2\" >22.188565</td>\n",
       "            </tr>\n",
       "            <tr>\n",
       "                                <th id=\"T_f6af230c_904e_11ea_ab50_086d41d2c472level1_row13\" class=\"row_heading level1 row13\" >as</th>\n",
       "                        <td id=\"T_f6af230c_904e_11ea_ab50_086d41d2c472row13_col0\" class=\"data row13 col0\" >0.000000</td>\n",
       "                        <td id=\"T_f6af230c_904e_11ea_ab50_086d41d2c472row13_col1\" class=\"data row13 col1\" >17.877640</td>\n",
       "                        <td id=\"T_f6af230c_904e_11ea_ab50_086d41d2c472row13_col2\" class=\"data row13 col2\" >18.595167</td>\n",
       "            </tr>\n",
       "            <tr>\n",
       "                                <th id=\"T_f6af230c_904e_11ea_ab50_086d41d2c472level1_row14\" class=\"row_heading level1 row14\" >jack</th>\n",
       "                        <td id=\"T_f6af230c_904e_11ea_ab50_086d41d2c472row14_col0\" class=\"data row14 col0\" >0.000000</td>\n",
       "                        <td id=\"T_f6af230c_904e_11ea_ab50_086d41d2c472row14_col1\" class=\"data row14 col1\" >40.377851</td>\n",
       "                        <td id=\"T_f6af230c_904e_11ea_ab50_086d41d2c472row14_col2\" class=\"data row14 col2\" >41.095571</td>\n",
       "            </tr>\n",
       "            <tr>\n",
       "                                <th id=\"T_f6af230c_904e_11ea_ab50_086d41d2c472level1_row15\" class=\"row_heading level1 row15\" >king</th>\n",
       "                        <td id=\"T_f6af230c_904e_11ea_ab50_086d41d2c472row15_col0\" class=\"data row15 col0\" >0.000000</td>\n",
       "                        <td id=\"T_f6af230c_904e_11ea_ab50_086d41d2c472row15_col1\" class=\"data row15 col1\" >9.802848</td>\n",
       "                        <td id=\"T_f6af230c_904e_11ea_ab50_086d41d2c472row15_col2\" class=\"data row15 col2\" >10.520785</td>\n",
       "            </tr>\n",
       "            <tr>\n",
       "                                <th id=\"T_f6af230c_904e_11ea_ab50_086d41d2c472level1_row16\" class=\"row_heading level1 row16\" >queen</th>\n",
       "                        <td id=\"T_f6af230c_904e_11ea_ab50_086d41d2c472row16_col0\" class=\"data row16 col0\" >0.000000</td>\n",
       "                        <td id=\"T_f6af230c_904e_11ea_ab50_086d41d2c472row16_col1\" class=\"data row16 col1\" >7.951426</td>\n",
       "                        <td id=\"T_f6af230c_904e_11ea_ab50_086d41d2c472row16_col2\" class=\"data row16 col2\" >8.669315</td>\n",
       "            </tr>\n",
       "    </tbody></table>"
      ],
      "text/plain": [
       "<pandas.io.formats.style.Styler at 0x1385e9510>"
      ]
     },
     "execution_count": 220,
     "metadata": {},
     "output_type": "execute_result"
    }
   ],
   "source": [
    "(average_coef.style\n",
    "            .apply(get_style_for_results, axis=None)\n",
    "            .set_caption(\"\"))"
   ]
  },
  {
   "cell_type": "markdown",
   "metadata": {},
   "source": [
    "### First neural network model with convolutions taking two players games"
   ]
  },
  {
   "cell_type": "code",
   "execution_count": 211,
   "metadata": {
    "collapsed": true
   },
   "outputs": [],
   "source": [
    "# Creatgin class_weigth dict to penalize extreme values\n",
    "# thresholds = [30, 50, 80, 100, 110]\n",
    "class_weights = {}\n",
    "for i in range(163):\n",
    "    i = float(i)\n",
    "    if i > 110:\n",
    "        class_weights[i] = 4\n",
    "    elif (i <= 50) | (i > 100):\n",
    "        class_weights[i] = 3\n",
    "    elif (i > 82) | (i <60):\n",
    "        class_weights[i] = 2\n",
    "    else:\n",
    "        class_weights[i] = 1"
   ]
  },
  {
   "cell_type": "code",
   "execution_count": 212,
   "metadata": {
    "collapsed": true
   },
   "outputs": [],
   "source": [
    "def build_cnn_model():\n",
    "    model = models.Sequential()\n",
    "    \n",
    "    model.add(layers.Conv1D(filters=16, kernel_size=4, activation='relu', input_shape=(64, 1)))\n",
    "    model.add(layers.AveragePooling1D(pool_size = 4, strides=4))\n",
    "    model.add(layers.BatchNormalization())\n",
    "    model.add(layers.Conv1D(filters=8, kernel_size=4, activation='relu'))\n",
    "    model.add(layers.AveragePooling1D(pool_size = 4))\n",
    "    model.add(layers.BatchNormalization())\n",
    "    model.add(layers.Conv1D(filters=4, kernel_size=2, activation='relu'))\n",
    "    model.add(layers.AveragePooling1D(pool_size = 2))\n",
    "    model.add(layers.BatchNormalization())\n",
    "    model.add(layers.Flatten())\n",
    "    model.add(layers.Dense(256, activation='relu'))\n",
    "    model.add(layers.Dense(64, activation='relu'))\n",
    "    model.add(layers.Dense(32, activation='relu'))\n",
    "    model.add(layers.Dense(8, activation='relu'))\n",
    "    model.add(layers.Dense(1))\n",
    "    return model\n",
    "\n",
    "def build_model():\n",
    "    model = models.Sequential()\n",
    "    model.add(layers.Dense(256, activation='relu', input_shape=(64,)))\n",
    "    model.add(layers.Dense(64, activation='relu'))\n",
    "    model.add(layers.Dense(32, activation='relu'))\n",
    "    model.add(layers.Dense(8, activation='relu'))\n",
    "    model.add(layers.Dense(1))\n",
    "    return model\n",
    "\n",
    "loss = mse\n",
    "\n",
    "model = build_cnn_model()\n",
    "model.compile(optimizer=\"adam\", loss=loss)\n",
    "\n",
    "model_class_weight = build_cnn_model()\n",
    "model_class_weight.compile(optimizer=\"adam\", loss=loss)\n",
    "\n",
    "relu_class_weigth_model = build_model()\n",
    "relu_class_weigth_model.compile(optimizer=\"adam\", loss=loss)\n",
    "\n",
    "relu_model = build_model()\n",
    "relu_model.compile(optimizer=\"adam\", loss=loss)"
   ]
  },
  {
   "cell_type": "code",
   "execution_count": 213,
   "metadata": {
    "collapsed": true
   },
   "outputs": [],
   "source": [
    "xtrain, xtest, ytrain, ytest = tts(data[data.columns[:-1]].values, data.total_reward, test_size=0.2, random_state=4)\n",
    "xtrain = xtrain.reshape((xtrain.shape[0], xtrain.shape[1], 1))\n",
    "xtest = xtest.reshape((xtest.shape[0], xtest.shape[1], 1))"
   ]
  },
  {
   "cell_type": "code",
   "execution_count": null,
   "metadata": {
    "collapsed": true,
    "scrolled": true
   },
   "outputs": [],
   "source": [
    "epochs = 50\n",
    "\n",
    "model.fit(x = xtrain, y = ytrain, epochs=epochs, batch_size=256, \n",
    "          validation_data=(xtest, ytest))\n",
    "\n",
    "model_class_weight.fit(x = xtrain, y = ytrain, epochs=epochs, batch_size=256, \n",
    "          validation_data=(xtest, ytest), class_weight=class_weights)\n",
    "\n",
    "relu_model.fit(x = xtrain.reshape(80000, 64), y = ytrain, epochs=epochs, batch_size=256, \n",
    "          validation_data=(xtest.reshape(20000, 64), ytest))\n",
    "\n",
    "relu_class_weigth_model.fit(x = xtrain.reshape(80000, 64), y = ytrain, epochs=epochs, batch_size=256, \n",
    "          validation_data=(xtest.reshape(20000, 64), ytest), class_weight=class_weights)"
   ]
  },
  {
   "cell_type": "code",
   "execution_count": 215,
   "metadata": {
    "scrolled": false
   },
   "outputs": [
    {
     "data": {
      "image/png": "[encoded data removed]",
      "text/plain": [
       "<Figure size 1080x1080 with 4 Axes>"
      ]
     },
     "metadata": {
      "needs_background": "light"
     },
     "output_type": "display_data"
    }
   ],
   "source": [
    "x1 = sorted(np.absolute(ytest-model_class_weight.predict(xtest).reshape(ytest.shape)))\n",
    "x2 = sorted(np.absolute(ytest-model.predict(xtest).reshape(ytest.shape)))\n",
    "x3 = sorted(np.absolute(ytest-relu_class_weigth_model.predict(xtest.reshape(20000, 64)).reshape(ytest.shape)))\n",
    "x4 = sorted(np.absolute(ytest-relu_model.predict(xtest.reshape(20000, 64)).reshape(ytest.shape)))\n",
    "\n",
    "plt.figure(figsize = (15, 15))\n",
    "plt.subplot(2,2,1)\n",
    "plt.hist(ytest, bins=np.arange(10, 170, 5), label=\"3 random + 1 AI\")\n",
    "plt.hist(model.predict(xtest), bins=np.arange(10, 170, 5), label=\"prediction distribution\")\n",
    "plt.title(\"model without class wheighting - bins\")\n",
    "plt.legend()\n",
    "\n",
    "plt.subplot(2,2,2)\n",
    "plt.hist(ytest, bins=np.arange(10, 170, 5), label=\"3 random + 1 AI\")\n",
    "plt.hist(relu_model.predict(xtest.reshape(20000, 64)), bins=np.arange(10, 170, 5), label=\"prediction distribution\")\n",
    "plt.title(\" relu model without class wheighting - bins\")\n",
    "plt.legend()\n",
    "\n",
    "plt.subplot(2,2,3)\n",
    "plt.hist(ytest, bins=np.arange(10, 170, 5), label=\"3 random + 1 AI\")\n",
    "plt.hist(model_class_weight.predict(xtest), bins=np.arange(10, 170, 5), label=\"prediction distribution\")\n",
    "plt.title(\"model with class wheighting - bins\")\n",
    "plt.legend()\n",
    "\n",
    "plt.subplot(2,2,4)\n",
    "plt.hist(ytest, bins=np.arange(10, 170, 5), label=\"3 random + 1 AI\")\n",
    "plt.hist(relu_class_weigth_model.predict(xtest.reshape(20000, 64)), bins=np.arange(10, 170, 5), label=\"prediction distribution\")\n",
    "plt.title(\" relu model with class wheighting - bins\")\n",
    "plt.legend()\n",
    "plt.show()"
   ]
  },
  {
   "cell_type": "code",
   "execution_count": 216,
   "metadata": {},
   "outputs": [
    {
     "data": {
      "image/png": "[encoded data removed]",
      "text/plain": [
       "<Figure size 720x720 with 1 Axes>"
      ]
     },
     "metadata": {
      "needs_background": "light"
     },
     "output_type": "display_data"
    }
   ],
   "source": [
    "kwargs = dict(histtype='step', bins=np.arange(0, 80, 10))\n",
    "\n",
    "plt.figure(figsize=(10,10))\n",
    "plt.hist(x1, label = \"cnn cw\", **kwargs)\n",
    "plt.hist(x2,label = \"cnn\", **kwargs)\n",
    "plt.hist(x3,label = \"relu cw\", **kwargs)\n",
    "plt.hist(x4,label = \"relu\", **kwargs)\n",
    "plt.legend()\n",
    "plt.show()"
   ]
  }
 ],
 "metadata": {
  "kernelspec": {
   "display_name": "Python [conda env:gym-coinche]",
   "language": "python",
   "name": "conda-env-gym-coinche-py"
  },
  "language_info": {
   "codemirror_mode": {
    "name": "ipython",
    "version": 3
   },
   "file_extension": ".py",
   "mimetype": "text/x-python",
   "name": "python",
   "nbconvert_exporter": "python",
   "pygments_lexer": "ipython3",
   "version": "3.7.5"
  }
 },
 "nbformat": 4,
 "nbformat_minor": 2
}
